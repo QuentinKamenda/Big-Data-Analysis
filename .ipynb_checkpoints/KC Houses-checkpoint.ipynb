{
 "cells": [
  {
   "cell_type": "markdown",
   "metadata": {},
   "source": [
    "# Prix des maisons du Comté de King (USA)"
   ]
  },
  {
   "cell_type": "markdown",
   "metadata": {},
   "source": [
    "Etude du dataset kc_house_data.csv"
   ]
  },
  {
   "cell_type": "code",
   "execution_count": 2,
   "metadata": {
    "collapsed": true
   },
   "outputs": [],
   "source": [
    "# Pandas : librairie de manipulation de données\n",
    "# NumPy : librairie de calcul scientifique\n",
    "# MatPlotLib : librairie de visualisation et graphiques\n",
    "# SeaBorn : librairie de graphiques avancés\n",
    "import pandas as pd\n",
    "import numpy as np\n",
    "from matplotlib import pyplot as plt\n",
    "import seaborn as sns\n",
    "\n",
    "# Directive pour afficher les graphiques dans Jupyter\n",
    "%matplotlib inline"
   ]
  },
  {
   "cell_type": "code",
   "execution_count": 3,
   "metadata": {
    "collapsed": true
   },
   "outputs": [],
   "source": [
    "kc=pd.read_csv(\"kc_house_data.csv\")"
   ]
  },
  {
   "cell_type": "code",
   "execution_count": 4,
   "metadata": {},
   "outputs": [
    {
     "data": {
      "text/html": [
       "<div>\n",
       "<style>\n",
       "    .dataframe thead tr:only-child th {\n",
       "        text-align: right;\n",
       "    }\n",
       "\n",
       "    .dataframe thead th {\n",
       "        text-align: left;\n",
       "    }\n",
       "\n",
       "    .dataframe tbody tr th {\n",
       "        vertical-align: top;\n",
       "    }\n",
       "</style>\n",
       "<table border=\"1\" class=\"dataframe\">\n",
       "  <thead>\n",
       "    <tr style=\"text-align: right;\">\n",
       "      <th></th>\n",
       "      <th>id</th>\n",
       "      <th>date</th>\n",
       "      <th>price</th>\n",
       "      <th>bedrooms</th>\n",
       "      <th>bathrooms</th>\n",
       "      <th>sqft_living</th>\n",
       "      <th>sqft_lot</th>\n",
       "      <th>floors</th>\n",
       "      <th>waterfront</th>\n",
       "      <th>view</th>\n",
       "      <th>...</th>\n",
       "      <th>grade</th>\n",
       "      <th>sqft_above</th>\n",
       "      <th>sqft_basement</th>\n",
       "      <th>yr_built</th>\n",
       "      <th>yr_renovated</th>\n",
       "      <th>zipcode</th>\n",
       "      <th>lat</th>\n",
       "      <th>long</th>\n",
       "      <th>sqft_living15</th>\n",
       "      <th>sqft_lot15</th>\n",
       "    </tr>\n",
       "  </thead>\n",
       "  <tbody>\n",
       "    <tr>\n",
       "      <th>0</th>\n",
       "      <td>7129300520</td>\n",
       "      <td>20141013T000000</td>\n",
       "      <td>221900.0</td>\n",
       "      <td>3</td>\n",
       "      <td>1.00</td>\n",
       "      <td>1180</td>\n",
       "      <td>5650</td>\n",
       "      <td>1.0</td>\n",
       "      <td>0</td>\n",
       "      <td>0</td>\n",
       "      <td>...</td>\n",
       "      <td>7</td>\n",
       "      <td>1180</td>\n",
       "      <td>0</td>\n",
       "      <td>1955</td>\n",
       "      <td>0</td>\n",
       "      <td>98178</td>\n",
       "      <td>47.5112</td>\n",
       "      <td>-122.257</td>\n",
       "      <td>1340</td>\n",
       "      <td>5650</td>\n",
       "    </tr>\n",
       "    <tr>\n",
       "      <th>1</th>\n",
       "      <td>6414100192</td>\n",
       "      <td>20141209T000000</td>\n",
       "      <td>538000.0</td>\n",
       "      <td>3</td>\n",
       "      <td>2.25</td>\n",
       "      <td>2570</td>\n",
       "      <td>7242</td>\n",
       "      <td>2.0</td>\n",
       "      <td>0</td>\n",
       "      <td>0</td>\n",
       "      <td>...</td>\n",
       "      <td>7</td>\n",
       "      <td>2170</td>\n",
       "      <td>400</td>\n",
       "      <td>1951</td>\n",
       "      <td>1991</td>\n",
       "      <td>98125</td>\n",
       "      <td>47.7210</td>\n",
       "      <td>-122.319</td>\n",
       "      <td>1690</td>\n",
       "      <td>7639</td>\n",
       "    </tr>\n",
       "    <tr>\n",
       "      <th>2</th>\n",
       "      <td>5631500400</td>\n",
       "      <td>20150225T000000</td>\n",
       "      <td>180000.0</td>\n",
       "      <td>2</td>\n",
       "      <td>1.00</td>\n",
       "      <td>770</td>\n",
       "      <td>10000</td>\n",
       "      <td>1.0</td>\n",
       "      <td>0</td>\n",
       "      <td>0</td>\n",
       "      <td>...</td>\n",
       "      <td>6</td>\n",
       "      <td>770</td>\n",
       "      <td>0</td>\n",
       "      <td>1933</td>\n",
       "      <td>0</td>\n",
       "      <td>98028</td>\n",
       "      <td>47.7379</td>\n",
       "      <td>-122.233</td>\n",
       "      <td>2720</td>\n",
       "      <td>8062</td>\n",
       "    </tr>\n",
       "    <tr>\n",
       "      <th>3</th>\n",
       "      <td>2487200875</td>\n",
       "      <td>20141209T000000</td>\n",
       "      <td>604000.0</td>\n",
       "      <td>4</td>\n",
       "      <td>3.00</td>\n",
       "      <td>1960</td>\n",
       "      <td>5000</td>\n",
       "      <td>1.0</td>\n",
       "      <td>0</td>\n",
       "      <td>0</td>\n",
       "      <td>...</td>\n",
       "      <td>7</td>\n",
       "      <td>1050</td>\n",
       "      <td>910</td>\n",
       "      <td>1965</td>\n",
       "      <td>0</td>\n",
       "      <td>98136</td>\n",
       "      <td>47.5208</td>\n",
       "      <td>-122.393</td>\n",
       "      <td>1360</td>\n",
       "      <td>5000</td>\n",
       "    </tr>\n",
       "    <tr>\n",
       "      <th>4</th>\n",
       "      <td>1954400510</td>\n",
       "      <td>20150218T000000</td>\n",
       "      <td>510000.0</td>\n",
       "      <td>3</td>\n",
       "      <td>2.00</td>\n",
       "      <td>1680</td>\n",
       "      <td>8080</td>\n",
       "      <td>1.0</td>\n",
       "      <td>0</td>\n",
       "      <td>0</td>\n",
       "      <td>...</td>\n",
       "      <td>8</td>\n",
       "      <td>1680</td>\n",
       "      <td>0</td>\n",
       "      <td>1987</td>\n",
       "      <td>0</td>\n",
       "      <td>98074</td>\n",
       "      <td>47.6168</td>\n",
       "      <td>-122.045</td>\n",
       "      <td>1800</td>\n",
       "      <td>7503</td>\n",
       "    </tr>\n",
       "  </tbody>\n",
       "</table>\n",
       "<p>5 rows × 21 columns</p>\n",
       "</div>"
      ],
      "text/plain": [
       "           id             date     price  bedrooms  bathrooms  sqft_living  \\\n",
       "0  7129300520  20141013T000000  221900.0         3       1.00         1180   \n",
       "1  6414100192  20141209T000000  538000.0         3       2.25         2570   \n",
       "2  5631500400  20150225T000000  180000.0         2       1.00          770   \n",
       "3  2487200875  20141209T000000  604000.0         4       3.00         1960   \n",
       "4  1954400510  20150218T000000  510000.0         3       2.00         1680   \n",
       "\n",
       "   sqft_lot  floors  waterfront  view     ...      grade  sqft_above  \\\n",
       "0      5650     1.0           0     0     ...          7        1180   \n",
       "1      7242     2.0           0     0     ...          7        2170   \n",
       "2     10000     1.0           0     0     ...          6         770   \n",
       "3      5000     1.0           0     0     ...          7        1050   \n",
       "4      8080     1.0           0     0     ...          8        1680   \n",
       "\n",
       "   sqft_basement  yr_built  yr_renovated  zipcode      lat     long  \\\n",
       "0              0      1955             0    98178  47.5112 -122.257   \n",
       "1            400      1951          1991    98125  47.7210 -122.319   \n",
       "2              0      1933             0    98028  47.7379 -122.233   \n",
       "3            910      1965             0    98136  47.5208 -122.393   \n",
       "4              0      1987             0    98074  47.6168 -122.045   \n",
       "\n",
       "   sqft_living15  sqft_lot15  \n",
       "0           1340        5650  \n",
       "1           1690        7639  \n",
       "2           2720        8062  \n",
       "3           1360        5000  \n",
       "4           1800        7503  \n",
       "\n",
       "[5 rows x 21 columns]"
      ]
     },
     "execution_count": 4,
     "metadata": {},
     "output_type": "execute_result"
    }
   ],
   "source": [
    "# Visualisation du début du dataframe\n",
    "kc.head()"
   ]
  },
  {
   "cell_type": "code",
   "execution_count": 6,
   "metadata": {},
   "outputs": [
    {
     "name": "stdout",
     "output_type": "stream",
     "text": [
      "<class 'pandas.core.frame.DataFrame'>\n",
      "RangeIndex: 21613 entries, 0 to 21612\n",
      "Data columns (total 21 columns):\n",
      "id               21613 non-null int64\n",
      "date             21613 non-null object\n",
      "price            21613 non-null float64\n",
      "bedrooms         21613 non-null int64\n",
      "bathrooms        21613 non-null float64\n",
      "sqft_living      21613 non-null int64\n",
      "sqft_lot         21613 non-null int64\n",
      "floors           21613 non-null float64\n",
      "waterfront       21613 non-null int64\n",
      "view             21613 non-null int64\n",
      "condition        21613 non-null int64\n",
      "grade            21613 non-null int64\n",
      "sqft_above       21613 non-null int64\n",
      "sqft_basement    21613 non-null int64\n",
      "yr_built         21613 non-null int64\n",
      "yr_renovated     21613 non-null int64\n",
      "zipcode          21613 non-null int64\n",
      "lat              21613 non-null float64\n",
      "long             21613 non-null float64\n",
      "sqft_living15    21613 non-null int64\n",
      "sqft_lot15       21613 non-null int64\n",
      "dtypes: float64(5), int64(15), object(1)\n",
      "memory usage: 3.5+ MB\n"
     ]
    }
   ],
   "source": [
    "# Informations sur les types des données\n",
    "kc.info()"
   ]
  },
  {
   "cell_type": "code",
   "execution_count": 32,
   "metadata": {},
   "outputs": [
    {
     "data": {
      "text/html": [
       "<div>\n",
       "<style>\n",
       "    .dataframe thead tr:only-child th {\n",
       "        text-align: right;\n",
       "    }\n",
       "\n",
       "    .dataframe thead th {\n",
       "        text-align: left;\n",
       "    }\n",
       "\n",
       "    .dataframe tbody tr th {\n",
       "        vertical-align: top;\n",
       "    }\n",
       "</style>\n",
       "<table border=\"1\" class=\"dataframe\">\n",
       "  <thead>\n",
       "    <tr style=\"text-align: right;\">\n",
       "      <th></th>\n",
       "      <th>id</th>\n",
       "      <th>date</th>\n",
       "      <th>price</th>\n",
       "      <th>bedrooms</th>\n",
       "      <th>bathrooms</th>\n",
       "      <th>sqft_living</th>\n",
       "      <th>sqft_lot</th>\n",
       "      <th>floors</th>\n",
       "      <th>waterfront</th>\n",
       "      <th>view</th>\n",
       "      <th>...</th>\n",
       "      <th>grade</th>\n",
       "      <th>sqft_above</th>\n",
       "      <th>sqft_basement</th>\n",
       "      <th>yr_built</th>\n",
       "      <th>yr_renovated</th>\n",
       "      <th>zipcode</th>\n",
       "      <th>lat</th>\n",
       "      <th>long</th>\n",
       "      <th>sqft_living15</th>\n",
       "      <th>sqft_lot15</th>\n",
       "    </tr>\n",
       "  </thead>\n",
       "  <tbody>\n",
       "    <tr>\n",
       "      <th>12777</th>\n",
       "      <td>1225069038</td>\n",
       "      <td>20140505T000000</td>\n",
       "      <td>2280000.0</td>\n",
       "      <td>7</td>\n",
       "      <td>8.0</td>\n",
       "      <td>13540</td>\n",
       "      <td>307752</td>\n",
       "      <td>3.0</td>\n",
       "      <td>0</td>\n",
       "      <td>4</td>\n",
       "      <td>...</td>\n",
       "      <td>12</td>\n",
       "      <td>9410</td>\n",
       "      <td>4130</td>\n",
       "      <td>1999</td>\n",
       "      <td>0</td>\n",
       "      <td>98053</td>\n",
       "      <td>47.6675</td>\n",
       "      <td>-121.986</td>\n",
       "      <td>4850</td>\n",
       "      <td>217800</td>\n",
       "    </tr>\n",
       "  </tbody>\n",
       "</table>\n",
       "<p>1 rows × 21 columns</p>\n",
       "</div>"
      ],
      "text/plain": [
       "               id             date      price  bedrooms  bathrooms  \\\n",
       "12777  1225069038  20140505T000000  2280000.0         7        8.0   \n",
       "\n",
       "       sqft_living  sqft_lot  floors  waterfront  view     ...      grade  \\\n",
       "12777        13540    307752     3.0           0     4     ...         12   \n",
       "\n",
       "       sqft_above  sqft_basement  yr_built  yr_renovated  zipcode      lat  \\\n",
       "12777        9410           4130      1999             0    98053  47.6675   \n",
       "\n",
       "          long  sqft_living15  sqft_lot15  \n",
       "12777 -121.986           4850      217800  \n",
       "\n",
       "[1 rows x 21 columns]"
      ]
     },
     "execution_count": 32,
     "metadata": {},
     "output_type": "execute_result"
    }
   ],
   "source": [
    "kc[kc.sqft_living == 13540]"
   ]
  },
  {
   "cell_type": "code",
   "execution_count": 33,
   "metadata": {
    "collapsed": true
   },
   "outputs": [],
   "source": [
    "kc = kc.drop([12777])"
   ]
  },
  {
   "cell_type": "code",
   "execution_count": 7,
   "metadata": {},
   "outputs": [
    {
     "name": "stdout",
     "output_type": "stream",
     "text": [
      "                     id     price  bedrooms  bathrooms  sqft_living  sqft_lot  \\\n",
      "id             1.000000 -0.016762  0.001286   0.005160    -0.012258 -0.132109   \n",
      "price         -0.016762  1.000000  0.308350   0.525138     0.702035  0.089661   \n",
      "bedrooms       0.001286  0.308350  1.000000   0.515884     0.576671  0.031703   \n",
      "bathrooms      0.005160  0.525138  0.515884   1.000000     0.754665  0.087740   \n",
      "sqft_living   -0.012258  0.702035  0.576671   0.754665     1.000000  0.172826   \n",
      "sqft_lot      -0.132109  0.089661  0.031703   0.087740     0.172826  1.000000   \n",
      "floors         0.018525  0.256794  0.175429   0.500653     0.353949 -0.005201   \n",
      "waterfront    -0.002721  0.266369 -0.006582   0.063744     0.103818  0.021604   \n",
      "view           0.011592  0.397293  0.079532   0.187737     0.284611  0.074710   \n",
      "condition     -0.023783  0.036362  0.028472  -0.124982    -0.058753 -0.008958   \n",
      "grade          0.008130  0.667434  0.356967   0.664983     0.762704  0.113621   \n",
      "sqft_above    -0.010842  0.605567  0.477600   0.685342     0.876597  0.183512   \n",
      "sqft_basement -0.005151  0.323816  0.303093   0.283770     0.435043  0.015286   \n",
      "yr_built       0.021380  0.054012  0.154178   0.506019     0.318049  0.053080   \n",
      "yr_renovated  -0.016907  0.126434  0.018841   0.050739     0.055363  0.007644   \n",
      "zipcode       -0.008224 -0.053203 -0.152668  -0.203866    -0.199430 -0.129574   \n",
      "lat           -0.001891  0.307003 -0.008931   0.024573     0.052529 -0.085683   \n",
      "long           0.020799  0.021626  0.129473   0.223042     0.240223  0.229521   \n",
      "sqft_living15 -0.002901  0.585379  0.391638   0.568634     0.756420  0.144608   \n",
      "sqft_lot15    -0.138798  0.082447  0.029244   0.087175     0.183286  0.718557   \n",
      "\n",
      "                 floors  waterfront      view  condition     grade  \\\n",
      "id             0.018525   -0.002721  0.011592  -0.023783  0.008130   \n",
      "price          0.256794    0.266369  0.397293   0.036362  0.667434   \n",
      "bedrooms       0.175429   -0.006582  0.079532   0.028472  0.356967   \n",
      "bathrooms      0.500653    0.063744  0.187737  -0.124982  0.664983   \n",
      "sqft_living    0.353949    0.103818  0.284611  -0.058753  0.762704   \n",
      "sqft_lot      -0.005201    0.021604  0.074710  -0.008958  0.113621   \n",
      "floors         1.000000    0.023698  0.029444  -0.263768  0.458183   \n",
      "waterfront     0.023698    1.000000  0.401857   0.016653  0.082775   \n",
      "view           0.029444    0.401857  1.000000   0.045990  0.251321   \n",
      "condition     -0.263768    0.016653  0.045990   1.000000 -0.144674   \n",
      "grade          0.458183    0.082775  0.251321  -0.144674  1.000000   \n",
      "sqft_above     0.523885    0.072075  0.167649  -0.158214  0.755923   \n",
      "sqft_basement -0.245705    0.080588  0.276947   0.174105  0.168392   \n",
      "yr_built       0.489319   -0.026161 -0.053440  -0.361417  0.446963   \n",
      "yr_renovated   0.006338    0.092885  0.103917  -0.060618  0.014414   \n",
      "zipcode       -0.059121    0.030285  0.084827   0.003026 -0.184862   \n",
      "lat            0.049614   -0.014274  0.006157  -0.014941  0.114084   \n",
      "long           0.125419   -0.041910 -0.078400  -0.106500  0.198372   \n",
      "sqft_living15  0.279885    0.086463  0.280439  -0.092824  0.713202   \n",
      "sqft_lot15    -0.011269    0.030703  0.072575  -0.003406  0.119248   \n",
      "\n",
      "               sqft_above  sqft_basement  yr_built  yr_renovated   zipcode  \\\n",
      "id              -0.010842      -0.005151  0.021380     -0.016907 -0.008224   \n",
      "price            0.605567       0.323816  0.054012      0.126434 -0.053203   \n",
      "bedrooms         0.477600       0.303093  0.154178      0.018841 -0.152668   \n",
      "bathrooms        0.685342       0.283770  0.506019      0.050739 -0.203866   \n",
      "sqft_living      0.876597       0.435043  0.318049      0.055363 -0.199430   \n",
      "sqft_lot         0.183512       0.015286  0.053080      0.007644 -0.129574   \n",
      "floors           0.523885      -0.245705  0.489319      0.006338 -0.059121   \n",
      "waterfront       0.072075       0.080588 -0.026161      0.092885  0.030285   \n",
      "view             0.167649       0.276947 -0.053440      0.103917  0.084827   \n",
      "condition       -0.158214       0.174105 -0.361417     -0.060618  0.003026   \n",
      "grade            0.755923       0.168392  0.446963      0.014414 -0.184862   \n",
      "sqft_above       1.000000      -0.051943  0.423898      0.023285 -0.261190   \n",
      "sqft_basement   -0.051943       1.000000 -0.133124      0.071323  0.074845   \n",
      "yr_built         0.423898      -0.133124  1.000000     -0.224874 -0.346869   \n",
      "yr_renovated     0.023285       0.071323 -0.224874      1.000000  0.064357   \n",
      "zipcode         -0.261190       0.074845 -0.346869      0.064357  1.000000   \n",
      "lat             -0.000816       0.110538 -0.148122      0.029398  0.267048   \n",
      "long             0.343803      -0.144765  0.409356     -0.068372 -0.564072   \n",
      "sqft_living15    0.731870       0.200355  0.326229     -0.002673 -0.279033   \n",
      "sqft_lot15       0.194050       0.017276  0.070958      0.007854 -0.147221   \n",
      "\n",
      "                    lat      long  sqft_living15  sqft_lot15  \n",
      "id            -0.001891  0.020799      -0.002901   -0.138798  \n",
      "price          0.307003  0.021626       0.585379    0.082447  \n",
      "bedrooms      -0.008931  0.129473       0.391638    0.029244  \n",
      "bathrooms      0.024573  0.223042       0.568634    0.087175  \n",
      "sqft_living    0.052529  0.240223       0.756420    0.183286  \n",
      "sqft_lot      -0.085683  0.229521       0.144608    0.718557  \n",
      "floors         0.049614  0.125419       0.279885   -0.011269  \n",
      "waterfront    -0.014274 -0.041910       0.086463    0.030703  \n",
      "view           0.006157 -0.078400       0.280439    0.072575  \n",
      "condition     -0.014941 -0.106500      -0.092824   -0.003406  \n",
      "grade          0.114084  0.198372       0.713202    0.119248  \n",
      "sqft_above    -0.000816  0.343803       0.731870    0.194050  \n",
      "sqft_basement  0.110538 -0.144765       0.200355    0.017276  \n",
      "yr_built      -0.148122  0.409356       0.326229    0.070958  \n",
      "yr_renovated   0.029398 -0.068372      -0.002673    0.007854  \n",
      "zipcode        0.267048 -0.564072      -0.279033   -0.147221  \n",
      "lat            1.000000 -0.135512       0.048858   -0.086419  \n",
      "long          -0.135512  1.000000       0.334605    0.254451  \n",
      "sqft_living15  0.048858  0.334605       1.000000    0.183192  \n",
      "sqft_lot15    -0.086419  0.254451       0.183192    1.000000  \n"
     ]
    }
   ],
   "source": [
    "tabcorr = kc.corr()     # on peut utiliser aussi bos.corr(method='pearson') par exemple\n",
    "print(tabcorr)"
   ]
  },
  {
   "cell_type": "code",
   "execution_count": 14,
   "metadata": {},
   "outputs": [
    {
     "name": "stdout",
     "output_type": "stream",
     "text": [
      "sqft_living      0.702035\n",
      "grade            0.667434\n",
      "sqft_above       0.605567\n",
      "sqft_living15    0.585379\n",
      "bathrooms        0.525138\n",
      "view             0.397293\n",
      "sqft_basement    0.323816\n",
      "bedrooms         0.308350\n",
      "lat              0.307003\n",
      "waterfront       0.266369\n",
      "floors           0.256794\n",
      "yr_renovated     0.126434\n",
      "sqft_lot         0.089661\n",
      "sqft_lot15       0.082447\n",
      "yr_built         0.054012\n",
      "zipcode          0.053203\n",
      "condition        0.036362\n",
      "long             0.021626\n",
      "id               0.016762\n",
      "Name: price, dtype: float64\n"
     ]
    }
   ],
   "source": [
    "correlations = tabcorr.price\n",
    "correlations = correlations.drop(['price'],axis=0)\n",
    "correlations = abs(correlations)\n",
    "correlations = correlations.sort_values(ascending=False)     # Tri par ordre décroissant\n",
    "print(correlations)"
   ]
  },
  {
   "cell_type": "code",
   "execution_count": 38,
   "metadata": {},
   "outputs": [
    {
     "data": {
      "text/plain": [
       "<seaborn.matrix.ClusterGrid at 0x221748f4358>"
      ]
     },
     "execution_count": 38,
     "metadata": {},
     "output_type": "execute_result"
    },
    {
     "data": {
      "text/plain": [
       "<matplotlib.figure.Figure at 0x221748f44a8>"
      ]
     },
     "metadata": {},
     "output_type": "display_data"
    },
    {
     "data": {
      "image/png": "[encoded data removed]",
      "text/plain": [
       "<matplotlib.figure.Figure at 0x22174b622e8>"
      ]
     },
     "metadata": {},
     "output_type": "display_data"
    }
   ],
   "source": [
    "plt.figure(figsize=(12,12))\n",
    "sns.clustermap(kc.corr())"
   ]
  },
  {
   "cell_type": "code",
   "execution_count": 34,
   "metadata": {},
   "outputs": [
    {
     "data": {
      "text/plain": [
       "<matplotlib.axes._subplots.AxesSubplot at 0x22172da36d8>"
      ]
     },
     "execution_count": 34,
     "metadata": {},
     "output_type": "execute_result"
    },
    {
     "data": {
      "image/png": "[encoded data removed]",
      "text/plain": [
       "<matplotlib.figure.Figure at 0x22172d906a0>"
      ]
     },
     "metadata": {},
     "output_type": "display_data"
    }
   ],
   "source": [
    "sns.distplot(kc.price)"
   ]
  },
  {
   "cell_type": "code",
   "execution_count": 35,
   "metadata": {},
   "outputs": [
    {
     "data": {
      "text/plain": [
       "<seaborn.axisgrid.JointGrid at 0x221744b3400>"
      ]
     },
     "execution_count": 35,
     "metadata": {},
     "output_type": "execute_result"
    },
    {
     "data": {
      "image/png": "[encoded data removed]",
      "text/plain": [
       "<matplotlib.figure.Figure at 0x221744b3080>"
      ]
     },
     "metadata": {},
     "output_type": "display_data"
    }
   ],
   "source": [
    "sns.jointplot(kc.price, kc.sqft_living, kind='hex')"
   ]
  },
  {
   "cell_type": "code",
   "execution_count": null,
   "metadata": {
    "collapsed": true
   },
   "outputs": [],
   "source": []
  }
 ],
 "metadata": {
  "kernelspec": {
   "display_name": "Python 3",
   "language": "python",
   "name": "python3"
  },
  "language_info": {
   "codemirror_mode": {
    "name": "ipython",
    "version": 3
   },
   "file_extension": ".py",
   "mimetype": "text/x-python",
   "name": "python",
   "nbconvert_exporter": "python",
   "pygments_lexer": "ipython3",
   "version": "3.6.3"
  }
 },
 "nbformat": 4,
 "nbformat_minor": 2
}
