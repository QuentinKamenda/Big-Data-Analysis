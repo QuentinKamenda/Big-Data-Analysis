{
 "cells": [
  {
   "cell_type": "markdown",
   "metadata": {},
   "source": [
    "# Le Titanic : Deep Learning"
   ]
  },
  {
   "cell_type": "markdown",
   "metadata": {},
   "source": [
    "## Réseaux denses avec Sklearn"
   ]
  },
  {
   "cell_type": "markdown",
   "metadata": {},
   "source": [
    "<img src=\"http://scikit-learn.org/stable/_images/multilayerperceptron_network.png\">"
   ]
  },
  {
   "cell_type": "markdown",
   "metadata": {},
   "source": [
    "Détails sur les paramètres :  \n",
    "http://scikit-learn.org/stable/modules/neural_networks_supervised.html"
   ]
  },
  {
   "cell_type": "code",
   "execution_count": 1,
   "metadata": {
    "collapsed": true
   },
   "outputs": [],
   "source": [
    "# Directive pour afficher les graphiques dans Jupyter\n",
    "%matplotlib inline\n",
    "# Pandas : librairie de manipulation de données\n",
    "# NumPy : librairie de calcul scientifique\n",
    "# MatPlotLib : librairie de visualisation et graphiques\n",
    "# SeaBorn : librairie de graphiques avancés\n",
    "import pandas as pd\n",
    "import numpy as np\n",
    "from matplotlib import pyplot as plt\n",
    "import seaborn as sns\n",
    "from sklearn import metrics"
   ]
  },
  {
   "cell_type": "code",
   "execution_count": 2,
   "metadata": {},
   "outputs": [
    {
     "data": {
      "text/html": [
       "<div>\n",
       "<style>\n",
       "    .dataframe thead tr:only-child th {\n",
       "        text-align: right;\n",
       "    }\n",
       "\n",
       "    .dataframe thead th {\n",
       "        text-align: left;\n",
       "    }\n",
       "\n",
       "    .dataframe tbody tr th {\n",
       "        vertical-align: top;\n",
       "    }\n",
       "</style>\n",
       "<table border=\"1\" class=\"dataframe\">\n",
       "  <thead>\n",
       "    <tr style=\"text-align: right;\">\n",
       "      <th></th>\n",
       "      <th>survived</th>\n",
       "      <th>sex</th>\n",
       "      <th>age</th>\n",
       "      <th>sibsp</th>\n",
       "      <th>parch</th>\n",
       "      <th>fare</th>\n",
       "      <th>pclass_1</th>\n",
       "      <th>pclass_2</th>\n",
       "      <th>pclass_3</th>\n",
       "      <th>embarked_C</th>\n",
       "      <th>embarked_Q</th>\n",
       "      <th>embarked_S</th>\n",
       "    </tr>\n",
       "  </thead>\n",
       "  <tbody>\n",
       "    <tr>\n",
       "      <th>0</th>\n",
       "      <td>0</td>\n",
       "      <td>0</td>\n",
       "      <td>-0.642116</td>\n",
       "      <td>0</td>\n",
       "      <td>0</td>\n",
       "      <td>-0.490691</td>\n",
       "      <td>0</td>\n",
       "      <td>0</td>\n",
       "      <td>1</td>\n",
       "      <td>0</td>\n",
       "      <td>0</td>\n",
       "      <td>1</td>\n",
       "    </tr>\n",
       "    <tr>\n",
       "      <th>1</th>\n",
       "      <td>0</td>\n",
       "      <td>0</td>\n",
       "      <td>0.140274</td>\n",
       "      <td>0</td>\n",
       "      <td>0</td>\n",
       "      <td>-0.493509</td>\n",
       "      <td>0</td>\n",
       "      <td>0</td>\n",
       "      <td>1</td>\n",
       "      <td>0</td>\n",
       "      <td>1</td>\n",
       "      <td>0</td>\n",
       "    </tr>\n",
       "    <tr>\n",
       "      <th>2</th>\n",
       "      <td>1</td>\n",
       "      <td>1</td>\n",
       "      <td>-0.428737</td>\n",
       "      <td>3</td>\n",
       "      <td>2</td>\n",
       "      <td>4.441355</td>\n",
       "      <td>1</td>\n",
       "      <td>0</td>\n",
       "      <td>0</td>\n",
       "      <td>0</td>\n",
       "      <td>0</td>\n",
       "      <td>1</td>\n",
       "    </tr>\n",
       "    <tr>\n",
       "      <th>3</th>\n",
       "      <td>0</td>\n",
       "      <td>0</td>\n",
       "      <td>0.175837</td>\n",
       "      <td>0</td>\n",
       "      <td>0</td>\n",
       "      <td>3.445682</td>\n",
       "      <td>1</td>\n",
       "      <td>0</td>\n",
       "      <td>0</td>\n",
       "      <td>1</td>\n",
       "      <td>0</td>\n",
       "      <td>0</td>\n",
       "    </tr>\n",
       "    <tr>\n",
       "      <th>4</th>\n",
       "      <td>1</td>\n",
       "      <td>1</td>\n",
       "      <td>-1.566759</td>\n",
       "      <td>1</td>\n",
       "      <td>1</td>\n",
       "      <td>-0.140674</td>\n",
       "      <td>0</td>\n",
       "      <td>1</td>\n",
       "      <td>0</td>\n",
       "      <td>0</td>\n",
       "      <td>0</td>\n",
       "      <td>1</td>\n",
       "    </tr>\n",
       "  </tbody>\n",
       "</table>\n",
       "</div>"
      ],
      "text/plain": [
       "   survived  sex       age  sibsp  parch      fare  pclass_1  pclass_2  \\\n",
       "0         0    0 -0.642116      0      0 -0.490691         0         0   \n",
       "1         0    0  0.140274      0      0 -0.493509         0         0   \n",
       "2         1    1 -0.428737      3      2  4.441355         1         0   \n",
       "3         0    0  0.175837      0      0  3.445682         1         0   \n",
       "4         1    1 -1.566759      1      1 -0.140674         0         1   \n",
       "\n",
       "   pclass_3  embarked_C  embarked_Q  embarked_S  \n",
       "0         1           0           0           1  \n",
       "1         1           0           1           0  \n",
       "2         0           0           0           1  \n",
       "3         0           1           0           0  \n",
       "4         0           0           0           1  "
      ]
     },
     "execution_count": 2,
     "metadata": {},
     "output_type": "execute_result"
    }
   ],
   "source": [
    "# Lecture des datasets\n",
    "data_train = pd.read_csv('titanic_train0.csv')\n",
    "data_test = pd.read_csv('titanic_test0.csv')\n",
    "data_train.head()"
   ]
  },
  {
   "cell_type": "code",
   "execution_count": 3,
   "metadata": {
    "collapsed": true
   },
   "outputs": [],
   "source": [
    "X_train = data_train.drop(['survived'], axis=1)\n",
    "Y_train = data_train.survived\n",
    "X_test = data_test.drop(['survived'], axis=1)\n",
    "Y_test = data_test.survived"
   ]
  },
  {
   "cell_type": "code",
   "execution_count": 4,
   "metadata": {
    "collapsed": true
   },
   "outputs": [],
   "source": [
    "# Importation de la librairie \"neural networks\" de sklearn\n",
    "from sklearn.neural_network import MLPClassifier"
   ]
  },
  {
   "cell_type": "code",
   "execution_count": 5,
   "metadata": {
    "collapsed": true
   },
   "outputs": [],
   "source": [
    "# Création d'un réseau dense avec 2 couches cachées de 5 et 3 neurones\n",
    "mlp =  MLPClassifier(hidden_layer_sizes=(5,3))"
   ]
  },
  {
   "cell_type": "code",
   "execution_count": 6,
   "metadata": {},
   "outputs": [
    {
     "name": "stderr",
     "output_type": "stream",
     "text": [
      "D:\\Anaconda3\\lib\\site-packages\\sklearn\\neural_network\\multilayer_perceptron.py:564: ConvergenceWarning: Stochastic Optimizer: Maximum iterations (200) reached and the optimization hasn't converged yet.\n",
      "  % self.max_iter, ConvergenceWarning)\n"
     ]
    },
    {
     "data": {
      "text/plain": [
       "MLPClassifier(activation='relu', alpha=0.0001, batch_size='auto', beta_1=0.9,\n",
       "       beta_2=0.999, early_stopping=False, epsilon=1e-08,\n",
       "       hidden_layer_sizes=(5, 3), learning_rate='constant',\n",
       "       learning_rate_init=0.001, max_iter=200, momentum=0.9,\n",
       "       nesterovs_momentum=True, power_t=0.5, random_state=None,\n",
       "       shuffle=True, solver='adam', tol=0.0001, validation_fraction=0.1,\n",
       "       verbose=False, warm_start=False)"
      ]
     },
     "execution_count": 6,
     "metadata": {},
     "output_type": "execute_result"
    }
   ],
   "source": [
    "mlp.fit(X_train, Y_train)"
   ]
  },
  {
   "cell_type": "code",
   "execution_count": 7,
   "metadata": {
    "collapsed": true
   },
   "outputs": [],
   "source": [
    "Y_mlp = mlp.predict(X_test)"
   ]
  },
  {
   "cell_type": "code",
   "execution_count": 8,
   "metadata": {},
   "outputs": [
    {
     "name": "stdout",
     "output_type": "stream",
     "text": [
      "0.835877862595\n"
     ]
    }
   ],
   "source": [
    "mlp_score = metrics.accuracy_score(Y_test, Y_mlp)\n",
    "print(mlp_score)"
   ]
  },
  {
   "cell_type": "code",
   "execution_count": 9,
   "metadata": {},
   "outputs": [
    {
     "name": "stdout",
     "output_type": "stream",
     "text": [
      "[[150  10]\n",
      " [ 33  69]]\n"
     ]
    }
   ],
   "source": [
    "cm = metrics.confusion_matrix(Y_test, Y_mlp)\n",
    "print(cm)"
   ]
  },
  {
   "cell_type": "markdown",
   "metadata": {},
   "source": [
    "### Exercice : tester plusieurs possibilités de couches cachées"
   ]
  },
  {
   "cell_type": "code",
   "execution_count": 10,
   "metadata": {},
   "outputs": [
    {
     "ename": "NameError",
     "evalue": "name 'Y_pred' is not defined",
     "output_type": "error",
     "traceback": [
      "\u001b[1;31m---------------------------------------------------------------------------\u001b[0m",
      "\u001b[1;31mNameError\u001b[0m                                 Traceback (most recent call last)",
      "\u001b[1;32m<ipython-input-10-ea51805dbcbc>\u001b[0m in \u001b[0;36m<module>\u001b[1;34m()\u001b[0m\n\u001b[1;32m----> 1\u001b[1;33m \u001b[0mscoreR2\u001b[0m \u001b[1;33m=\u001b[0m \u001b[0mmetrics\u001b[0m\u001b[1;33m.\u001b[0m\u001b[0mr2_score\u001b[0m\u001b[1;33m(\u001b[0m\u001b[0mY_test\u001b[0m\u001b[1;33m,\u001b[0m \u001b[0mY_pred\u001b[0m\u001b[1;33m)\u001b[0m\u001b[1;33m\u001b[0m\u001b[0m\n\u001b[0m\u001b[0;32m      2\u001b[0m \u001b[0mprint\u001b[0m\u001b[1;33m(\u001b[0m\u001b[0mscoreR2\u001b[0m\u001b[1;33m)\u001b[0m\u001b[1;33m\u001b[0m\u001b[0m\n",
      "\u001b[1;31mNameError\u001b[0m: name 'Y_pred' is not defined"
     ]
    }
   ],
   "source": [
    "scoreR2 = metrics.r2_score(Y_test, Y_pred)\n",
    "print(scoreR2)"
   ]
  },
  {
   "cell_type": "markdown",
   "metadata": {},
   "source": [
    "### Exercice : tester les réseaux de neurones sur le dataset pour la prédiction du diabète\n"
   ]
  },
  {
   "cell_type": "code",
   "execution_count": null,
   "metadata": {
    "collapsed": true
   },
   "outputs": [],
   "source": []
  },
  {
   "cell_type": "markdown",
   "metadata": {},
   "source": [
    "## Deep learning avec Keras"
   ]
  },
  {
   "cell_type": "markdown",
   "metadata": {},
   "source": [
    "Pour installer keras dans Anaconda, dans un terminal lancer :  \n",
    "conda install -c conda-forge keras\n",
    "(environnement Theano par defaut)"
   ]
  },
  {
   "cell_type": "markdown",
   "metadata": {},
   "source": [
    "Pour un environnement Tensorflow :  \n",
    "http://inmachineswetrust.com/posts/deep-learning-setup/"
   ]
  },
  {
   "cell_type": "markdown",
   "metadata": {},
   "source": [
    "Avec GPU sous windows :  \n",
    "http://www.heatonresearch.com/2017/01/01/tensorflow-windows-gpu.html"
   ]
  },
  {
   "cell_type": "code",
   "execution_count": 11,
   "metadata": {},
   "outputs": [
    {
     "name": "stderr",
     "output_type": "stream",
     "text": [
      "Using TensorFlow backend.\n"
     ]
    }
   ],
   "source": [
    "# Importation des modèles standard (dense) sous Keras\n",
    "from keras.models import Sequential\n",
    "from keras.layers import Dense\n",
    "import numpy as np"
   ]
  },
  {
   "cell_type": "code",
   "execution_count": 12,
   "metadata": {
    "collapsed": true
   },
   "outputs": [],
   "source": [
    "X_train = X_train.as_matrix()\n",
    "X_test = X_test.as_matrix()"
   ]
  },
  {
   "cell_type": "code",
   "execution_count": 13,
   "metadata": {
    "collapsed": true
   },
   "outputs": [],
   "source": [
    "# Création du modèle\n",
    "\n",
    "model = Sequential()\n",
    "model.add(Dense(5, input_dim=X_train.shape[1], activation='relu'))\n",
    "model.add(Dense(3, activation='relu'))\n",
    "model.add(Dense(1, activation='sigmoid'))"
   ]
  },
  {
   "cell_type": "code",
   "execution_count": 14,
   "metadata": {
    "collapsed": true
   },
   "outputs": [],
   "source": [
    "# Compilation du modèle\n",
    "# Erreur quadratique\n",
    "# Descente de gradient stochastique\n",
    "\n",
    "model.compile(loss='binary_crossentropy', optimizer='adam', metrics=['accuracy'])"
   ]
  },
  {
   "cell_type": "code",
   "execution_count": 17,
   "metadata": {},
   "outputs": [
    {
     "name": "stdout",
     "output_type": "stream",
     "text": [
      "Epoch 1/200\n",
      "1047/1047 [==============================] - 0s - loss: 0.4217 - acc: 0.8080     \n",
      "Epoch 2/200\n",
      "1047/1047 [==============================] - 0s - loss: 0.4218 - acc: 0.8080     \n",
      "Epoch 3/200\n",
      "  10/1047 [..............................] - ETA: 0s - loss: 0.7218 - acc: 0.5000"
     ]
    },
    {
     "name": "stderr",
     "output_type": "stream",
     "text": [
      "C:\\Users\\qkame\\AppData\\Roaming\\Python\\Python36\\site-packages\\keras\\models.py:848: UserWarning: The `nb_epoch` argument in `fit` has been renamed `epochs`.\n",
      "  warnings.warn('The `nb_epoch` argument in `fit` '\n"
     ]
    },
    {
     "name": "stdout",
     "output_type": "stream",
     "text": [
      "1047/1047 [==============================] - 0s - loss: 0.4219 - acc: 0.8099     \n",
      "Epoch 4/200\n",
      "1047/1047 [==============================] - 0s - loss: 0.4216 - acc: 0.8099     \n",
      "Epoch 5/200\n",
      "1047/1047 [==============================] - 0s - loss: 0.4217 - acc: 0.8090     \n",
      "Epoch 6/200\n",
      "1047/1047 [==============================] - 0s - loss: 0.4227 - acc: 0.8071     \n",
      "Epoch 7/200\n",
      "1047/1047 [==============================] - 0s - loss: 0.4215 - acc: 0.8071     \n",
      "Epoch 8/200\n",
      "1047/1047 [==============================] - 0s - loss: 0.4213 - acc: 0.8090     \n",
      "Epoch 9/200\n",
      "1047/1047 [==============================] - 0s - loss: 0.4219 - acc: 0.8128     \n",
      "Epoch 10/200\n",
      "1047/1047 [==============================] - 0s - loss: 0.4218 - acc: 0.8099     \n",
      "Epoch 11/200\n",
      "1047/1047 [==============================] - 0s - loss: 0.4217 - acc: 0.8099     \n",
      "Epoch 12/200\n",
      "1047/1047 [==============================] - 0s - loss: 0.4215 - acc: 0.8080     \n",
      "Epoch 13/200\n",
      "1047/1047 [==============================] - 0s - loss: 0.4213 - acc: 0.8109     \n",
      "Epoch 14/200\n",
      "1047/1047 [==============================] - 0s - loss: 0.4213 - acc: 0.8071     \n",
      "Epoch 15/200\n",
      "1047/1047 [==============================] - 0s - loss: 0.4213 - acc: 0.8090     \n",
      "Epoch 16/200\n",
      "1047/1047 [==============================] - 0s - loss: 0.4217 - acc: 0.8080     \n",
      "Epoch 17/200\n",
      "1047/1047 [==============================] - 0s - loss: 0.4212 - acc: 0.8109     \n",
      "Epoch 18/200\n",
      "1047/1047 [==============================] - 0s - loss: 0.4215 - acc: 0.8099     \n",
      "Epoch 19/200\n",
      "1047/1047 [==============================] - 0s - loss: 0.4212 - acc: 0.8099     \n",
      "Epoch 20/200\n",
      "1047/1047 [==============================] - 0s - loss: 0.4212 - acc: 0.8071     \n",
      "Epoch 21/200\n",
      "1047/1047 [==============================] - 0s - loss: 0.4218 - acc: 0.8128     \n",
      "Epoch 22/200\n",
      "1047/1047 [==============================] - 0s - loss: 0.4220 - acc: 0.8099     \n",
      "Epoch 23/200\n",
      "1047/1047 [==============================] - 0s - loss: 0.4209 - acc: 0.8080     \n",
      "Epoch 24/200\n",
      "1047/1047 [==============================] - 0s - loss: 0.4209 - acc: 0.8128     \n",
      "Epoch 25/200\n",
      "1047/1047 [==============================] - 0s - loss: 0.4214 - acc: 0.8109     \n",
      "Epoch 26/200\n",
      "1047/1047 [==============================] - 0s - loss: 0.4209 - acc: 0.8080     \n",
      "Epoch 27/200\n",
      "1047/1047 [==============================] - 0s - loss: 0.4214 - acc: 0.8071     \n",
      "Epoch 28/200\n",
      "1047/1047 [==============================] - 0s - loss: 0.4211 - acc: 0.8128     \n",
      "Epoch 29/200\n",
      "1047/1047 [==============================] - 0s - loss: 0.4208 - acc: 0.8090     \n",
      "Epoch 30/200\n",
      "1047/1047 [==============================] - 0s - loss: 0.4210 - acc: 0.8109     \n",
      "Epoch 31/200\n",
      "1047/1047 [==============================] - 0s - loss: 0.4210 - acc: 0.8090     \n",
      "Epoch 32/200\n",
      "1047/1047 [==============================] - 0s - loss: 0.4208 - acc: 0.8109     \n",
      "Epoch 33/200\n",
      "1047/1047 [==============================] - 0s - loss: 0.4207 - acc: 0.8080     \n",
      "Epoch 34/200\n",
      "1047/1047 [==============================] - 0s - loss: 0.4211 - acc: 0.8090     \n",
      "Epoch 35/200\n",
      "1047/1047 [==============================] - 0s - loss: 0.4205 - acc: 0.8109     \n",
      "Epoch 36/200\n",
      "1047/1047 [==============================] - 0s - loss: 0.4208 - acc: 0.8109     \n",
      "Epoch 37/200\n",
      "1047/1047 [==============================] - 0s - loss: 0.4203 - acc: 0.8090     \n",
      "Epoch 38/200\n",
      "1047/1047 [==============================] - 0s - loss: 0.4204 - acc: 0.8138     \n",
      "Epoch 39/200\n",
      "1047/1047 [==============================] - 0s - loss: 0.4213 - acc: 0.8090     \n",
      "Epoch 40/200\n",
      "1047/1047 [==============================] - 0s - loss: 0.4209 - acc: 0.8090     \n",
      "Epoch 41/200\n",
      "1047/1047 [==============================] - 0s - loss: 0.4214 - acc: 0.8099     \n",
      "Epoch 42/200\n",
      "1047/1047 [==============================] - 0s - loss: 0.4203 - acc: 0.8109     \n",
      "Epoch 43/200\n",
      "1047/1047 [==============================] - 0s - loss: 0.4216 - acc: 0.8052     \n",
      "Epoch 44/200\n",
      "1047/1047 [==============================] - 0s - loss: 0.4205 - acc: 0.8090     \n",
      "Epoch 45/200\n",
      "1047/1047 [==============================] - 0s - loss: 0.4205 - acc: 0.8080     \n",
      "Epoch 46/200\n",
      "1047/1047 [==============================] - 0s - loss: 0.4206 - acc: 0.8071     \n",
      "Epoch 47/200\n",
      "1047/1047 [==============================] - 0s - loss: 0.4211 - acc: 0.8099     \n",
      "Epoch 48/200\n",
      "1047/1047 [==============================] - 0s - loss: 0.4209 - acc: 0.8099     \n",
      "Epoch 49/200\n",
      "1047/1047 [==============================] - 0s - loss: 0.4209 - acc: 0.8109     \n",
      "Epoch 50/200\n",
      "1047/1047 [==============================] - 0s - loss: 0.4206 - acc: 0.8118     \n",
      "Epoch 51/200\n",
      "1047/1047 [==============================] - 0s - loss: 0.4201 - acc: 0.8109     \n",
      "Epoch 52/200\n",
      "1047/1047 [==============================] - 0s - loss: 0.4202 - acc: 0.8080     \n",
      "Epoch 53/200\n",
      "1047/1047 [==============================] - 0s - loss: 0.4208 - acc: 0.8080     \n",
      "Epoch 54/200\n",
      "1047/1047 [==============================] - 0s - loss: 0.4201 - acc: 0.8099     \n",
      "Epoch 55/200\n",
      "1047/1047 [==============================] - 0s - loss: 0.4215 - acc: 0.8090     \n",
      "Epoch 56/200\n",
      "1047/1047 [==============================] - 0s - loss: 0.4202 - acc: 0.8080     \n",
      "Epoch 57/200\n",
      "1047/1047 [==============================] - 0s - loss: 0.4203 - acc: 0.8109     \n",
      "Epoch 58/200\n",
      "1047/1047 [==============================] - 0s - loss: 0.4198 - acc: 0.8109     \n",
      "Epoch 59/200\n",
      "1047/1047 [==============================] - 0s - loss: 0.4204 - acc: 0.8099     \n",
      "Epoch 60/200\n",
      "1047/1047 [==============================] - 0s - loss: 0.4201 - acc: 0.8090     \n",
      "Epoch 61/200\n",
      "1047/1047 [==============================] - 0s - loss: 0.4218 - acc: 0.8118     \n",
      "Epoch 62/200\n",
      "1047/1047 [==============================] - 0s - loss: 0.4204 - acc: 0.8118     \n",
      "Epoch 63/200\n",
      "1047/1047 [==============================] - 0s - loss: 0.4199 - acc: 0.8109     \n",
      "Epoch 64/200\n",
      "1047/1047 [==============================] - 0s - loss: 0.4208 - acc: 0.8118     \n",
      "Epoch 65/200\n",
      "1047/1047 [==============================] - 0s - loss: 0.4207 - acc: 0.8128     \n",
      "Epoch 66/200\n",
      "1047/1047 [==============================] - 0s - loss: 0.4206 - acc: 0.8099     \n",
      "Epoch 67/200\n",
      "1047/1047 [==============================] - 0s - loss: 0.4204 - acc: 0.8090     \n",
      "Epoch 68/200\n",
      "1047/1047 [==============================] - 0s - loss: 0.4201 - acc: 0.8109     \n",
      "Epoch 69/200\n",
      "1047/1047 [==============================] - 0s - loss: 0.4204 - acc: 0.8118     \n",
      "Epoch 70/200\n",
      "1047/1047 [==============================] - 0s - loss: 0.4208 - acc: 0.8090     \n",
      "Epoch 71/200\n",
      "1047/1047 [==============================] - 0s - loss: 0.4202 - acc: 0.8099     \n",
      "Epoch 72/200\n",
      "1047/1047 [==============================] - 0s - loss: 0.4205 - acc: 0.8109     \n",
      "Epoch 73/200\n",
      "1047/1047 [==============================] - 0s - loss: 0.4203 - acc: 0.8061     \n",
      "Epoch 74/200\n",
      "1047/1047 [==============================] - 0s - loss: 0.4198 - acc: 0.8099     \n",
      "Epoch 75/200\n",
      "1047/1047 [==============================] - 0s - loss: 0.4209 - acc: 0.8090     \n",
      "Epoch 76/200\n",
      "1047/1047 [==============================] - 0s - loss: 0.4198 - acc: 0.8080     \n",
      "Epoch 77/200\n",
      "1047/1047 [==============================] - 0s - loss: 0.4201 - acc: 0.8128     \n",
      "Epoch 78/200\n",
      "1047/1047 [==============================] - 0s - loss: 0.4202 - acc: 0.8118     \n",
      "Epoch 79/200\n",
      "1047/1047 [==============================] - 0s - loss: 0.4196 - acc: 0.8109     \n",
      "Epoch 80/200\n",
      "1047/1047 [==============================] - 0s - loss: 0.4204 - acc: 0.8071     \n",
      "Epoch 81/200\n",
      "1047/1047 [==============================] - 0s - loss: 0.4201 - acc: 0.8090     \n",
      "Epoch 82/200\n",
      "1047/1047 [==============================] - 0s - loss: 0.4197 - acc: 0.8147     \n",
      "Epoch 83/200\n",
      "1047/1047 [==============================] - 0s - loss: 0.4206 - acc: 0.8061     \n",
      "Epoch 84/200\n",
      "1047/1047 [==============================] - 0s - loss: 0.4199 - acc: 0.8080     \n",
      "Epoch 85/200\n",
      "1047/1047 [==============================] - 0s - loss: 0.4200 - acc: 0.8118     \n",
      "Epoch 86/200\n",
      "1047/1047 [==============================] - 0s - loss: 0.4195 - acc: 0.8099     \n",
      "Epoch 87/200\n",
      "1047/1047 [==============================] - 0s - loss: 0.4201 - acc: 0.8099     \n",
      "Epoch 88/200\n",
      "1047/1047 [==============================] - 0s - loss: 0.4201 - acc: 0.8128     \n",
      "Epoch 89/200\n",
      "1047/1047 [==============================] - 0s - loss: 0.4195 - acc: 0.8109     \n",
      "Epoch 90/200\n",
      "1047/1047 [==============================] - 0s - loss: 0.4198 - acc: 0.8090     \n",
      "Epoch 91/200\n",
      "1047/1047 [==============================] - 0s - loss: 0.4197 - acc: 0.8118     \n",
      "Epoch 92/200\n",
      "1047/1047 [==============================] - 0s - loss: 0.4203 - acc: 0.8090     \n",
      "Epoch 93/200\n",
      "1047/1047 [==============================] - 0s - loss: 0.4199 - acc: 0.8090     \n",
      "Epoch 94/200\n",
      "1047/1047 [==============================] - 0s - loss: 0.4197 - acc: 0.8099     \n",
      "Epoch 95/200\n",
      "1047/1047 [==============================] - 0s - loss: 0.4206 - acc: 0.8090     \n",
      "Epoch 96/200\n",
      "1047/1047 [==============================] - 0s - loss: 0.4203 - acc: 0.8090     \n",
      "Epoch 97/200\n",
      "1047/1047 [==============================] - 0s - loss: 0.4202 - acc: 0.8080     \n",
      "Epoch 98/200\n",
      "1047/1047 [==============================] - 0s - loss: 0.4206 - acc: 0.8118     \n",
      "Epoch 99/200\n",
      "1047/1047 [==============================] - 0s - loss: 0.4197 - acc: 0.8118     \n",
      "Epoch 100/200\n",
      "1047/1047 [==============================] - 0s - loss: 0.4194 - acc: 0.8118     \n",
      "Epoch 101/200\n",
      "1047/1047 [==============================] - 0s - loss: 0.4193 - acc: 0.8090     \n",
      "Epoch 102/200\n",
      "1047/1047 [==============================] - 0s - loss: 0.4200 - acc: 0.8090     \n",
      "Epoch 103/200\n",
      "1047/1047 [==============================] - 0s - loss: 0.4196 - acc: 0.8128     \n",
      "Epoch 104/200\n",
      "1047/1047 [==============================] - 0s - loss: 0.4196 - acc: 0.8090     \n",
      "Epoch 105/200\n",
      "1047/1047 [==============================] - 0s - loss: 0.4193 - acc: 0.8109     \n",
      "Epoch 106/200\n",
      "1047/1047 [==============================] - 0s - loss: 0.4194 - acc: 0.8118     \n",
      "Epoch 107/200\n",
      "1047/1047 [==============================] - 0s - loss: 0.4194 - acc: 0.8118     \n",
      "Epoch 108/200\n",
      "1047/1047 [==============================] - 0s - loss: 0.4194 - acc: 0.8090     \n",
      "Epoch 109/200\n",
      "1047/1047 [==============================] - 0s - loss: 0.4205 - acc: 0.8128     \n",
      "Epoch 110/200\n",
      "1047/1047 [==============================] - 0s - loss: 0.4202 - acc: 0.8147     \n",
      "Epoch 111/200\n",
      "1047/1047 [==============================] - 0s - loss: 0.4209 - acc: 0.8099     \n",
      "Epoch 112/200\n",
      "1047/1047 [==============================] - 0s - loss: 0.4197 - acc: 0.8109     \n",
      "Epoch 113/200\n",
      "1047/1047 [==============================] - 0s - loss: 0.4188 - acc: 0.8118     \n",
      "Epoch 114/200\n",
      "1047/1047 [==============================] - 0s - loss: 0.4193 - acc: 0.8090     \n",
      "Epoch 115/200\n",
      "1047/1047 [==============================] - 0s - loss: 0.4206 - acc: 0.8080     \n",
      "Epoch 116/200\n",
      "1047/1047 [==============================] - 0s - loss: 0.4195 - acc: 0.8099     \n",
      "Epoch 117/200\n",
      "1047/1047 [==============================] - 0s - loss: 0.4192 - acc: 0.8099     \n",
      "Epoch 118/200\n",
      "1047/1047 [==============================] - 0s - loss: 0.4187 - acc: 0.8128     \n",
      "Epoch 119/200\n",
      "1047/1047 [==============================] - 0s - loss: 0.4195 - acc: 0.8109     \n",
      "Epoch 120/200\n",
      "1047/1047 [==============================] - 0s - loss: 0.4188 - acc: 0.8138     \n",
      "Epoch 121/200\n",
      "1047/1047 [==============================] - 0s - loss: 0.4192 - acc: 0.8109     \n",
      "Epoch 122/200\n",
      "1047/1047 [==============================] - 0s - loss: 0.4194 - acc: 0.8109     \n",
      "Epoch 123/200\n",
      "1047/1047 [==============================] - 0s - loss: 0.4201 - acc: 0.8080     \n",
      "Epoch 124/200\n",
      "1047/1047 [==============================] - 0s - loss: 0.4185 - acc: 0.8080     \n",
      "Epoch 125/200\n",
      "1047/1047 [==============================] - 0s - loss: 0.4194 - acc: 0.8128     \n",
      "Epoch 126/200\n",
      "1047/1047 [==============================] - 0s - loss: 0.4190 - acc: 0.8090     \n",
      "Epoch 127/200\n",
      "1047/1047 [==============================] - 0s - loss: 0.4198 - acc: 0.8090     \n",
      "Epoch 128/200\n",
      "1047/1047 [==============================] - 0s - loss: 0.4191 - acc: 0.8147     \n",
      "Epoch 129/200\n",
      "1047/1047 [==============================] - 0s - loss: 0.4190 - acc: 0.8128     \n",
      "Epoch 130/200\n",
      "1047/1047 [==============================] - 0s - loss: 0.4185 - acc: 0.8099     \n",
      "Epoch 131/200\n",
      "1047/1047 [==============================] - 0s - loss: 0.4195 - acc: 0.8109     \n",
      "Epoch 132/200\n",
      "1047/1047 [==============================] - 0s - loss: 0.4193 - acc: 0.8099     \n",
      "Epoch 133/200\n",
      "1047/1047 [==============================] - 0s - loss: 0.4197 - acc: 0.8109     \n",
      "Epoch 134/200\n",
      "1047/1047 [==============================] - 0s - loss: 0.4189 - acc: 0.8109     \n",
      "Epoch 135/200\n",
      "1047/1047 [==============================] - 0s - loss: 0.4185 - acc: 0.8099     \n",
      "Epoch 136/200\n",
      "1047/1047 [==============================] - 0s - loss: 0.4192 - acc: 0.8118     \n",
      "Epoch 137/200\n",
      "1047/1047 [==============================] - 0s - loss: 0.4185 - acc: 0.8128     \n",
      "Epoch 138/200\n",
      "1047/1047 [==============================] - 0s - loss: 0.4186 - acc: 0.8080     \n",
      "Epoch 139/200\n",
      "1047/1047 [==============================] - 0s - loss: 0.4188 - acc: 0.8099     \n",
      "Epoch 140/200\n",
      "1047/1047 [==============================] - 0s - loss: 0.4190 - acc: 0.8118     \n",
      "Epoch 141/200\n",
      "1047/1047 [==============================] - 0s - loss: 0.4192 - acc: 0.8109     \n",
      "Epoch 142/200\n",
      "1047/1047 [==============================] - 0s - loss: 0.4185 - acc: 0.8128     \n",
      "Epoch 143/200\n",
      "1047/1047 [==============================] - 0s - loss: 0.4186 - acc: 0.8109     \n",
      "Epoch 144/200\n",
      "1047/1047 [==============================] - 0s - loss: 0.4192 - acc: 0.8090     \n",
      "Epoch 145/200\n",
      "1047/1047 [==============================] - 0s - loss: 0.4183 - acc: 0.8118     \n",
      "Epoch 146/200\n",
      "1047/1047 [==============================] - 0s - loss: 0.4188 - acc: 0.8118     \n",
      "Epoch 147/200\n",
      "1047/1047 [==============================] - 0s - loss: 0.4185 - acc: 0.8118     \n",
      "Epoch 148/200\n",
      "1047/1047 [==============================] - 0s - loss: 0.4186 - acc: 0.8099     \n",
      "Epoch 149/200\n",
      "1047/1047 [==============================] - 0s - loss: 0.4188 - acc: 0.8118     \n",
      "Epoch 150/200\n",
      "1047/1047 [==============================] - 0s - loss: 0.4190 - acc: 0.8118     \n",
      "Epoch 151/200\n",
      "1047/1047 [==============================] - 0s - loss: 0.4187 - acc: 0.8090     \n",
      "Epoch 152/200\n",
      "1047/1047 [==============================] - 0s - loss: 0.4186 - acc: 0.8109     \n",
      "Epoch 153/200\n",
      "1047/1047 [==============================] - 0s - loss: 0.4188 - acc: 0.8109     \n",
      "Epoch 154/200\n",
      "1047/1047 [==============================] - 0s - loss: 0.4179 - acc: 0.8128     \n",
      "Epoch 155/200\n",
      "1047/1047 [==============================] - 0s - loss: 0.4180 - acc: 0.8128     \n",
      "Epoch 156/200\n",
      "1047/1047 [==============================] - 0s - loss: 0.4187 - acc: 0.8138     \n",
      "Epoch 157/200\n",
      "1047/1047 [==============================] - 0s - loss: 0.4186 - acc: 0.8138     \n",
      "Epoch 158/200\n",
      "1047/1047 [==============================] - 0s - loss: 0.4188 - acc: 0.8128     \n",
      "Epoch 159/200\n",
      "1047/1047 [==============================] - 0s - loss: 0.4188 - acc: 0.8099     \n",
      "Epoch 160/200\n",
      "1047/1047 [==============================] - 0s - loss: 0.4179 - acc: 0.8118     \n",
      "Epoch 161/200\n",
      "1047/1047 [==============================] - 0s - loss: 0.4184 - acc: 0.8109     \n",
      "Epoch 162/200\n",
      "1047/1047 [==============================] - 0s - loss: 0.4185 - acc: 0.8099     \n",
      "Epoch 163/200\n",
      "1047/1047 [==============================] - 0s - loss: 0.4188 - acc: 0.8109     \n",
      "Epoch 164/200\n",
      "1047/1047 [==============================] - 0s - loss: 0.4189 - acc: 0.8128     \n",
      "Epoch 165/200\n",
      "1047/1047 [==============================] - 0s - loss: 0.4181 - acc: 0.8090     \n",
      "Epoch 166/200\n",
      "1047/1047 [==============================] - 0s - loss: 0.4184 - acc: 0.8128     \n",
      "Epoch 167/200\n",
      "1047/1047 [==============================] - 0s - loss: 0.4176 - acc: 0.8109     \n",
      "Epoch 168/200\n",
      "1047/1047 [==============================] - 0s - loss: 0.4176 - acc: 0.8090     \n",
      "Epoch 169/200\n",
      "1047/1047 [==============================] - 0s - loss: 0.4180 - acc: 0.8118     \n",
      "Epoch 170/200\n",
      "1047/1047 [==============================] - 0s - loss: 0.4175 - acc: 0.8118     \n",
      "Epoch 171/200\n",
      "1047/1047 [==============================] - 0s - loss: 0.4179 - acc: 0.8080     \n",
      "Epoch 172/200\n",
      "1047/1047 [==============================] - 0s - loss: 0.4180 - acc: 0.8099     \n",
      "Epoch 173/200\n",
      "1047/1047 [==============================] - 0s - loss: 0.4180 - acc: 0.8118     \n",
      "Epoch 174/200\n"
     ]
    },
    {
     "name": "stdout",
     "output_type": "stream",
     "text": [
      "1047/1047 [==============================] - 0s - loss: 0.4179 - acc: 0.8109     \n",
      "Epoch 175/200\n",
      "1047/1047 [==============================] - 0s - loss: 0.4172 - acc: 0.8138     \n",
      "Epoch 176/200\n",
      "1047/1047 [==============================] - 0s - loss: 0.4184 - acc: 0.8109     \n",
      "Epoch 177/200\n",
      "1047/1047 [==============================] - 0s - loss: 0.4184 - acc: 0.8118     \n",
      "Epoch 178/200\n",
      "1047/1047 [==============================] - 0s - loss: 0.4179 - acc: 0.8128     \n",
      "Epoch 179/200\n",
      "1047/1047 [==============================] - 0s - loss: 0.4184 - acc: 0.8138     \n",
      "Epoch 180/200\n",
      "1047/1047 [==============================] - 0s - loss: 0.4186 - acc: 0.8109     \n",
      "Epoch 181/200\n",
      "1047/1047 [==============================] - 0s - loss: 0.4174 - acc: 0.8099     \n",
      "Epoch 182/200\n",
      "1047/1047 [==============================] - 0s - loss: 0.4176 - acc: 0.8109     \n",
      "Epoch 183/200\n",
      "1047/1047 [==============================] - 0s - loss: 0.4169 - acc: 0.8138     \n",
      "Epoch 184/200\n",
      "1047/1047 [==============================] - 0s - loss: 0.4182 - acc: 0.8128     \n",
      "Epoch 185/200\n",
      "1047/1047 [==============================] - 0s - loss: 0.4173 - acc: 0.8128     \n",
      "Epoch 186/200\n",
      "1047/1047 [==============================] - 0s - loss: 0.4174 - acc: 0.8138     \n",
      "Epoch 187/200\n",
      "1047/1047 [==============================] - 0s - loss: 0.4183 - acc: 0.8080     \n",
      "Epoch 188/200\n",
      "1047/1047 [==============================] - 0s - loss: 0.4170 - acc: 0.8109     \n",
      "Epoch 189/200\n",
      "1047/1047 [==============================] - 0s - loss: 0.4171 - acc: 0.8099     \n",
      "Epoch 190/200\n",
      "1047/1047 [==============================] - 0s - loss: 0.4179 - acc: 0.8118     \n",
      "Epoch 191/200\n",
      "1047/1047 [==============================] - 0s - loss: 0.4181 - acc: 0.8118     \n",
      "Epoch 192/200\n",
      "1047/1047 [==============================] - 0s - loss: 0.4182 - acc: 0.8138     \n",
      "Epoch 193/200\n",
      "1047/1047 [==============================] - 0s - loss: 0.4187 - acc: 0.8118     \n",
      "Epoch 194/200\n",
      "1047/1047 [==============================] - 0s - loss: 0.4172 - acc: 0.8147     \n",
      "Epoch 195/200\n",
      "1047/1047 [==============================] - 0s - loss: 0.4180 - acc: 0.8147     \n",
      "Epoch 196/200\n",
      "1047/1047 [==============================] - 0s - loss: 0.4175 - acc: 0.8138     \n",
      "Epoch 197/200\n",
      "1047/1047 [==============================] - 0s - loss: 0.4177 - acc: 0.8109     \n",
      "Epoch 198/200\n",
      "1047/1047 [==============================] - 0s - loss: 0.4178 - acc: 0.8128     \n",
      "Epoch 199/200\n",
      "1047/1047 [==============================] - 0s - loss: 0.4177 - acc: 0.8080     \n",
      "Epoch 200/200\n",
      "1047/1047 [==============================] - 0s - loss: 0.4170 - acc: 0.8118     \n"
     ]
    },
    {
     "data": {
      "text/plain": [
       "<keras.callbacks.History at 0x26a6e4dd128>"
      ]
     },
     "execution_count": 17,
     "metadata": {},
     "output_type": "execute_result"
    }
   ],
   "source": [
    "# Apprentissage\n",
    "# 200 itérations (epoch)\n",
    "# mini-batch de 10\n",
    "\n",
    "model.fit(X_train, Y_train, nb_epoch=200, batch_size=10)"
   ]
  },
  {
   "cell_type": "code",
   "execution_count": 18,
   "metadata": {},
   "outputs": [
    {
     "name": "stdout",
     "output_type": "stream",
     "text": [
      " 32/262 [==>...........................] - ETA: 0sacc: 82.06%\n"
     ]
    }
   ],
   "source": [
    "# Performance du modèle\n",
    "\n",
    "scores = model.evaluate(X_test, Y_test)\n",
    "print(\"%s: %.2f%%\" % (model.metrics_names[1], scores[1]*100))"
   ]
  },
  {
   "cell_type": "markdown",
   "metadata": {},
   "source": [
    "### Exercice : Tester différents paramètres (initialisation, optimizer, couches, ...)"
   ]
  },
  {
   "cell_type": "markdown",
   "metadata": {},
   "source": [
    "### Exercice : tester Keras sur le dataset du diabete"
   ]
  },
  {
   "cell_type": "code",
   "execution_count": null,
   "metadata": {
    "collapsed": true
   },
   "outputs": [],
   "source": []
  }
 ],
 "metadata": {
  "anaconda-cloud": {},
  "kernelspec": {
   "display_name": "Python 3",
   "language": "python",
   "name": "python3"
  },
  "language_info": {
   "codemirror_mode": {
    "name": "ipython",
    "version": 3
   },
   "file_extension": ".py",
   "mimetype": "text/x-python",
   "name": "python",
   "nbconvert_exporter": "python",
   "pygments_lexer": "ipython3",
   "version": "3.6.3"
  }
 },
 "nbformat": 4,
 "nbformat_minor": 2
}
