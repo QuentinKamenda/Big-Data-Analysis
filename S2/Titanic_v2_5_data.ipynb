{
 "cells": [
  {
   "cell_type": "markdown",
   "metadata": {},
   "source": [
    "# Le Titanic : Partie 2, préparation des données"
   ]
  },
  {
   "cell_type": "markdown",
   "metadata": {},
   "source": [
    "## Lecture des données"
   ]
  },
  {
   "cell_type": "code",
   "execution_count": 1,
   "metadata": {},
   "outputs": [],
   "source": [
    "# Directive pour afficher les graphiques dans Jupyter\n",
    "%matplotlib inline"
   ]
  },
  {
   "cell_type": "code",
   "execution_count": 2,
   "metadata": {},
   "outputs": [],
   "source": [
    "# Pandas : librairie de manipulation de données\n",
    "# NumPy : librairie de calcul scientifique\n",
    "# MatPlotLib : librairie de visualisation et graphiques\n",
    "# SeaBorn : librairie de graphiques avancés\n",
    "import pandas as pd\n",
    "import numpy as np\n",
    "from matplotlib import pyplot as plt\n",
    "import seaborn as sns"
   ]
  },
  {
   "cell_type": "code",
   "execution_count": 3,
   "metadata": {},
   "outputs": [],
   "source": [
    "# Lecture des données d'apprentissage et de test\n",
    "titanic = pd.read_csv(\"titanic.csv\")"
   ]
  },
  {
   "cell_type": "code",
   "execution_count": 4,
   "metadata": {},
   "outputs": [
    {
     "data": {
      "text/html": [
       "<div>\n",
       "<style scoped>\n",
       "    .dataframe tbody tr th:only-of-type {\n",
       "        vertical-align: middle;\n",
       "    }\n",
       "\n",
       "    .dataframe tbody tr th {\n",
       "        vertical-align: top;\n",
       "    }\n",
       "\n",
       "    .dataframe thead th {\n",
       "        text-align: right;\n",
       "    }\n",
       "</style>\n",
       "<table border=\"1\" class=\"dataframe\">\n",
       "  <thead>\n",
       "    <tr style=\"text-align: right;\">\n",
       "      <th></th>\n",
       "      <th>pclass</th>\n",
       "      <th>survived</th>\n",
       "      <th>name</th>\n",
       "      <th>sex</th>\n",
       "      <th>age</th>\n",
       "      <th>sibsp</th>\n",
       "      <th>parch</th>\n",
       "      <th>ticket</th>\n",
       "      <th>fare</th>\n",
       "      <th>cabin</th>\n",
       "      <th>embarked</th>\n",
       "      <th>boat</th>\n",
       "      <th>body</th>\n",
       "      <th>homedest</th>\n",
       "    </tr>\n",
       "  </thead>\n",
       "  <tbody>\n",
       "    <tr>\n",
       "      <th>0</th>\n",
       "      <td>1</td>\n",
       "      <td>1</td>\n",
       "      <td>Allen, Miss. Elisabeth Walton</td>\n",
       "      <td>female</td>\n",
       "      <td>29.0000</td>\n",
       "      <td>0</td>\n",
       "      <td>0</td>\n",
       "      <td>24160</td>\n",
       "      <td>211.3375</td>\n",
       "      <td>B5</td>\n",
       "      <td>S</td>\n",
       "      <td>2</td>\n",
       "      <td>NaN</td>\n",
       "      <td>St Louis, MO</td>\n",
       "    </tr>\n",
       "    <tr>\n",
       "      <th>1</th>\n",
       "      <td>1</td>\n",
       "      <td>1</td>\n",
       "      <td>Allison, Master. Hudson Trevor</td>\n",
       "      <td>male</td>\n",
       "      <td>0.9167</td>\n",
       "      <td>1</td>\n",
       "      <td>2</td>\n",
       "      <td>113781</td>\n",
       "      <td>151.5500</td>\n",
       "      <td>C22 C26</td>\n",
       "      <td>S</td>\n",
       "      <td>11</td>\n",
       "      <td>NaN</td>\n",
       "      <td>Montreal, PQ / Chesterville, ON</td>\n",
       "    </tr>\n",
       "    <tr>\n",
       "      <th>2</th>\n",
       "      <td>1</td>\n",
       "      <td>0</td>\n",
       "      <td>Allison, Miss. Helen Loraine</td>\n",
       "      <td>female</td>\n",
       "      <td>2.0000</td>\n",
       "      <td>1</td>\n",
       "      <td>2</td>\n",
       "      <td>113781</td>\n",
       "      <td>151.5500</td>\n",
       "      <td>C22 C26</td>\n",
       "      <td>S</td>\n",
       "      <td>NaN</td>\n",
       "      <td>NaN</td>\n",
       "      <td>Montreal, PQ / Chesterville, ON</td>\n",
       "    </tr>\n",
       "    <tr>\n",
       "      <th>3</th>\n",
       "      <td>1</td>\n",
       "      <td>0</td>\n",
       "      <td>Allison, Mr. Hudson Joshua Creighton</td>\n",
       "      <td>male</td>\n",
       "      <td>30.0000</td>\n",
       "      <td>1</td>\n",
       "      <td>2</td>\n",
       "      <td>113781</td>\n",
       "      <td>151.5500</td>\n",
       "      <td>C22 C26</td>\n",
       "      <td>S</td>\n",
       "      <td>NaN</td>\n",
       "      <td>135.0</td>\n",
       "      <td>Montreal, PQ / Chesterville, ON</td>\n",
       "    </tr>\n",
       "    <tr>\n",
       "      <th>4</th>\n",
       "      <td>1</td>\n",
       "      <td>0</td>\n",
       "      <td>Allison, Mrs. Hudson J C (Bessie Waldo Daniels)</td>\n",
       "      <td>female</td>\n",
       "      <td>25.0000</td>\n",
       "      <td>1</td>\n",
       "      <td>2</td>\n",
       "      <td>113781</td>\n",
       "      <td>151.5500</td>\n",
       "      <td>C22 C26</td>\n",
       "      <td>S</td>\n",
       "      <td>NaN</td>\n",
       "      <td>NaN</td>\n",
       "      <td>Montreal, PQ / Chesterville, ON</td>\n",
       "    </tr>\n",
       "  </tbody>\n",
       "</table>\n",
       "</div>"
      ],
      "text/plain": [
       "   pclass  survived                                             name     sex  \\\n",
       "0       1         1                    Allen, Miss. Elisabeth Walton  female   \n",
       "1       1         1                   Allison, Master. Hudson Trevor    male   \n",
       "2       1         0                     Allison, Miss. Helen Loraine  female   \n",
       "3       1         0             Allison, Mr. Hudson Joshua Creighton    male   \n",
       "4       1         0  Allison, Mrs. Hudson J C (Bessie Waldo Daniels)  female   \n",
       "\n",
       "       age  sibsp  parch  ticket      fare    cabin embarked boat   body  \\\n",
       "0  29.0000      0      0   24160  211.3375       B5        S    2    NaN   \n",
       "1   0.9167      1      2  113781  151.5500  C22 C26        S   11    NaN   \n",
       "2   2.0000      1      2  113781  151.5500  C22 C26        S  NaN    NaN   \n",
       "3  30.0000      1      2  113781  151.5500  C22 C26        S  NaN  135.0   \n",
       "4  25.0000      1      2  113781  151.5500  C22 C26        S  NaN    NaN   \n",
       "\n",
       "                          homedest  \n",
       "0                     St Louis, MO  \n",
       "1  Montreal, PQ / Chesterville, ON  \n",
       "2  Montreal, PQ / Chesterville, ON  \n",
       "3  Montreal, PQ / Chesterville, ON  \n",
       "4  Montreal, PQ / Chesterville, ON  "
      ]
     },
     "execution_count": 4,
     "metadata": {},
     "output_type": "execute_result"
    }
   ],
   "source": [
    "titanic.head()"
   ]
  },
  {
   "cell_type": "markdown",
   "metadata": {},
   "source": [
    "## Interprétation des paramètres (rappel)"
   ]
  },
  {
   "cell_type": "raw",
   "metadata": {},
   "source": [
    "- survived - Survival (0 = No; 1 = Yes)\n",
    "- pclass - Passenger Class (1 = 1st; 2 = 2nd; 3 = 3rd)\n",
    "- name - Name\n",
    "- sex - Sex\n",
    "- age - Age\n",
    "- sibsp - Number of Siblings/Spouses Aboard\n",
    "- parch - Number of Parents/Children Aboard\n",
    "- ticket - Ticket Number\n",
    "- fare - Passenger Fare\n",
    "- cabin - Cabin\n",
    "- embarked - Port of Embarkation (C = Cherbourg; Q = Queenstown; S = Southampton)\n"
   ]
  },
  {
   "cell_type": "markdown",
   "metadata": {},
   "source": [
    "## Conditionnement des données"
   ]
  },
  {
   "cell_type": "code",
   "execution_count": 5,
   "metadata": {},
   "outputs": [],
   "source": [
    "# On élimine les colonnes non pertinentes pour la prédiction\n",
    "titanic = titanic.drop(['name', 'ticket', 'cabin','boat','body','homedest'], axis=1)"
   ]
  },
  {
   "cell_type": "markdown",
   "metadata": {},
   "source": [
    "### Données manquantes"
   ]
  },
  {
   "cell_type": "code",
   "execution_count": 6,
   "metadata": {},
   "outputs": [
    {
     "data": {
      "text/plain": [
       "pclass      1309\n",
       "survived    1309\n",
       "sex         1309\n",
       "age         1046\n",
       "sibsp       1309\n",
       "parch       1309\n",
       "fare        1308\n",
       "embarked    1307\n",
       "dtype: int64"
      ]
     },
     "execution_count": 6,
     "metadata": {},
     "output_type": "execute_result"
    }
   ],
   "source": [
    "titanic.count()"
   ]
  },
  {
   "cell_type": "markdown",
   "metadata": {
    "collapsed": true
   },
   "source": [
    "On voit qu'il manque des données, en particulier pour la colonne *'age'*  \n",
    "Il existe plusieurs approches pour compléter les données manquantes :  \n",
    "- **suppression** des données manquantes (par exemple avec la fonction *dropna*). C'est une méthode simple, mais qui élimine de l'information\n",
    "- **remplacement** des données manquantes. Par exemple, on pourrait remplacer les informations manquantes pour l'âge par la moyenne de la colonne (mais on introduit un biais sur cette valeur), ou par un nombre aléatoire généré par une loi normale de même moyenne et variance ...\n",
    "- **estimation** des paramètres manquants avec une méthode de prédiction (par exemple avec une régression)"
   ]
  },
  {
   "cell_type": "markdown",
   "metadata": {},
   "source": [
    "La fonction *fillna* permet de compléter simplement les paramètres manquants. L'option *method='pad'* permet d'utiliser la précédente valeur non manquante :"
   ]
  },
  {
   "cell_type": "code",
   "execution_count": 7,
   "metadata": {},
   "outputs": [],
   "source": [
    "titanic = titanic.fillna(method='pad')"
   ]
  },
  {
   "cell_type": "code",
   "execution_count": 8,
   "metadata": {},
   "outputs": [
    {
     "data": {
      "text/plain": [
       "pclass      1309\n",
       "survived    1309\n",
       "sex         1309\n",
       "age         1309\n",
       "sibsp       1309\n",
       "parch       1309\n",
       "fare        1309\n",
       "embarked    1309\n",
       "dtype: int64"
      ]
     },
     "execution_count": 8,
     "metadata": {},
     "output_type": "execute_result"
    }
   ],
   "source": [
    "titanic.count()"
   ]
  },
  {
   "cell_type": "markdown",
   "metadata": {},
   "source": [
    "On a bien complété les valeurs manquantes"
   ]
  },
  {
   "cell_type": "code",
   "execution_count": 10,
   "metadata": {},
   "outputs": [
    {
     "data": {
      "text/plain": [
       "(array([25., 12.,  7., 10.,  6.,  6.,  4.,  6., 14.,  4.,  5.,  4.,  5.,\n",
       "         8., 18., 27., 27., 42., 42., 24., 48., 64., 30., 59., 53., 36.,\n",
       "        44., 38., 39., 46., 31., 32., 39., 24., 33., 36., 14., 16., 28.,\n",
       "        18., 17., 21., 11., 17., 33., 10., 19., 20., 12., 15.,  8.,  7.,\n",
       "         4., 10.,  9.,  6.,  8.,  6.,  3.,  7., 12.,  5.,  5.,  5.,  3.,\n",
       "         2.,  1.,  0.,  0.,  2.,  3.,  0.,  0.,  1.,  0.,  1.,  0.,  0.,\n",
       "         0.,  2.]),\n",
       " array([ 0.1667    ,  1.16461625,  2.1625325 ,  3.16044875,  4.158365  ,\n",
       "         5.15628125,  6.1541975 ,  7.15211375,  8.15003   ,  9.14794625,\n",
       "        10.1458625 , 11.14377875, 12.141695  , 13.13961125, 14.1375275 ,\n",
       "        15.13544375, 16.13336   , 17.13127625, 18.1291925 , 19.12710875,\n",
       "        20.125025  , 21.12294125, 22.1208575 , 23.11877375, 24.11669   ,\n",
       "        25.11460625, 26.1125225 , 27.11043875, 28.108355  , 29.10627125,\n",
       "        30.1041875 , 31.10210375, 32.10002   , 33.09793625, 34.0958525 ,\n",
       "        35.09376875, 36.091685  , 37.08960125, 38.0875175 , 39.08543375,\n",
       "        40.08335   , 41.08126625, 42.0791825 , 43.07709875, 44.075015  ,\n",
       "        45.07293125, 46.0708475 , 47.06876375, 48.06668   , 49.06459625,\n",
       "        50.0625125 , 51.06042875, 52.058345  , 53.05626125, 54.0541775 ,\n",
       "        55.05209375, 56.05001   , 57.04792625, 58.0458425 , 59.04375875,\n",
       "        60.041675  , 61.03959125, 62.0375075 , 63.03542375, 64.03334   ,\n",
       "        65.03125625, 66.0291725 , 67.02708875, 68.025005  , 69.02292125,\n",
       "        70.0208375 , 71.01875375, 72.01667   , 73.01458625, 74.0125025 ,\n",
       "        75.01041875, 76.008335  , 77.00625125, 78.0041675 , 79.00208375,\n",
       "        80.        ]),\n",
       " <a list of 80 Patch objects>)"
      ]
     },
     "execution_count": 10,
     "metadata": {},
     "output_type": "execute_result"
    },
    {
     "data": {
      "image/png": "[encoded data removed]",
      "text/plain": [
       "<matplotlib.figure.Figure at 0x15e4723ca58>"
      ]
     },
     "metadata": {},
     "output_type": "display_data"
    }
   ],
   "source": [
    "plt.hist(titanic.age, bins=80)"
   ]
  },
  {
   "cell_type": "markdown",
   "metadata": {
    "collapsed": true
   },
   "source": [
    "La distribution des âges n'est pas significativement modifiée ..."
   ]
  },
  {
   "cell_type": "markdown",
   "metadata": {
    "collapsed": true
   },
   "source": [
    "### Mise à l'échelle des données quantitatives"
   ]
  },
  {
   "cell_type": "code",
   "execution_count": 11,
   "metadata": {},
   "outputs": [
    {
     "data": {
      "text/html": [
       "<div>\n",
       "<style scoped>\n",
       "    .dataframe tbody tr th:only-of-type {\n",
       "        vertical-align: middle;\n",
       "    }\n",
       "\n",
       "    .dataframe tbody tr th {\n",
       "        vertical-align: top;\n",
       "    }\n",
       "\n",
       "    .dataframe thead th {\n",
       "        text-align: right;\n",
       "    }\n",
       "</style>\n",
       "<table border=\"1\" class=\"dataframe\">\n",
       "  <thead>\n",
       "    <tr style=\"text-align: right;\">\n",
       "      <th></th>\n",
       "      <th>age</th>\n",
       "      <th>fare</th>\n",
       "    </tr>\n",
       "  </thead>\n",
       "  <tbody>\n",
       "    <tr>\n",
       "      <th>count</th>\n",
       "      <td>1309.000000</td>\n",
       "      <td>1309.000000</td>\n",
       "    </tr>\n",
       "    <tr>\n",
       "      <th>mean</th>\n",
       "      <td>30.027820</td>\n",
       "      <td>33.276193</td>\n",
       "    </tr>\n",
       "    <tr>\n",
       "      <th>std</th>\n",
       "      <td>14.064854</td>\n",
       "      <td>51.743584</td>\n",
       "    </tr>\n",
       "    <tr>\n",
       "      <th>min</th>\n",
       "      <td>0.166700</td>\n",
       "      <td>0.000000</td>\n",
       "    </tr>\n",
       "    <tr>\n",
       "      <th>25%</th>\n",
       "      <td>21.000000</td>\n",
       "      <td>7.895800</td>\n",
       "    </tr>\n",
       "    <tr>\n",
       "      <th>50%</th>\n",
       "      <td>28.000000</td>\n",
       "      <td>14.454200</td>\n",
       "    </tr>\n",
       "    <tr>\n",
       "      <th>75%</th>\n",
       "      <td>39.000000</td>\n",
       "      <td>31.275000</td>\n",
       "    </tr>\n",
       "    <tr>\n",
       "      <th>max</th>\n",
       "      <td>80.000000</td>\n",
       "      <td>512.329200</td>\n",
       "    </tr>\n",
       "  </tbody>\n",
       "</table>\n",
       "</div>"
      ],
      "text/plain": [
       "               age         fare\n",
       "count  1309.000000  1309.000000\n",
       "mean     30.027820    33.276193\n",
       "std      14.064854    51.743584\n",
       "min       0.166700     0.000000\n",
       "25%      21.000000     7.895800\n",
       "50%      28.000000    14.454200\n",
       "75%      39.000000    31.275000\n",
       "max      80.000000   512.329200"
      ]
     },
     "execution_count": 11,
     "metadata": {},
     "output_type": "execute_result"
    }
   ],
   "source": [
    "titanic[['age','fare']].describe()"
   ]
  },
  {
   "cell_type": "code",
   "execution_count": 12,
   "metadata": {},
   "outputs": [
    {
     "data": {
      "text/plain": [
       "(array([ 25.,  19.,  10.,  12.,  10.,  14.,   9.,   4.,  25.,  33.,  27.,\n",
       "         84.,  25., 112.,  88.,  53.,  80.,  42.,  85.,  59.,  39.,  57.,\n",
       "         38.,  28.,  46.,  17.,  32.,  17.,  43.,  39.,  12.,  23.,   7.,\n",
       "         14.,  15.,   8.,   9.,   8.,  16.,  10.,   3.,   3.,   0.,   2.,\n",
       "          3.,   0.,   1.,   1.,   0.,   2.]),\n",
       " array([ 0.1667  ,  1.763366,  3.360032,  4.956698,  6.553364,  8.15003 ,\n",
       "         9.746696, 11.343362, 12.940028, 14.536694, 16.13336 , 17.730026,\n",
       "        19.326692, 20.923358, 22.520024, 24.11669 , 25.713356, 27.310022,\n",
       "        28.906688, 30.503354, 32.10002 , 33.696686, 35.293352, 36.890018,\n",
       "        38.486684, 40.08335 , 41.680016, 43.276682, 44.873348, 46.470014,\n",
       "        48.06668 , 49.663346, 51.260012, 52.856678, 54.453344, 56.05001 ,\n",
       "        57.646676, 59.243342, 60.840008, 62.436674, 64.03334 , 65.630006,\n",
       "        67.226672, 68.823338, 70.420004, 72.01667 , 73.613336, 75.210002,\n",
       "        76.806668, 78.403334, 80.      ]),\n",
       " <a list of 50 Patch objects>)"
      ]
     },
     "execution_count": 12,
     "metadata": {},
     "output_type": "execute_result"
    },
    {
     "data": {
      "image/png": "[encoded data removed]",
      "text/plain": [
       "<matplotlib.figure.Figure at 0x15e472effd0>"
      ]
     },
     "metadata": {},
     "output_type": "display_data"
    }
   ],
   "source": [
    "plt.hist(titanic.fare, bins=50, color='red', alpha=0.5)\n",
    "plt.hist(titanic.age, bins=50, color='blue', alpha=0.5)"
   ]
  },
  {
   "cell_type": "markdown",
   "metadata": {},
   "source": [
    "On voit qu'il y a une forte différente de distribution entre les deux séries.  \n",
    "Certains algorithmes demandent une distribution normalisée. Pour une discussion détaillée sur ce sujet, cf par exemple :  \n",
    "http://www.faqs.org/faqs/ai-faq/neural-nets/part2/section-16.html  \n",
    "http://scikit-learn.org/stable/modules/preprocessing.html"
   ]
  },
  {
   "cell_type": "markdown",
   "metadata": {},
   "source": [
    "La librairie *sklearn* comporte une librairie de prétraitement des données"
   ]
  },
  {
   "cell_type": "code",
   "execution_count": 13,
   "metadata": {},
   "outputs": [],
   "source": [
    "from sklearn import preprocessing"
   ]
  },
  {
   "cell_type": "code",
   "execution_count": 14,
   "metadata": {},
   "outputs": [],
   "source": [
    "scaler = preprocessing.StandardScaler()\n",
    "titanic[['age', 'fare']] = scaler.fit_transform(titanic[['age', 'fare']])"
   ]
  },
  {
   "cell_type": "code",
   "execution_count": 15,
   "metadata": {},
   "outputs": [
    {
     "data": {
      "text/plain": [
       "(array([ 25.,  19.,  10.,  12.,  10.,  14.,   9.,   4.,  25.,  33.,  27.,\n",
       "         84.,  25., 112.,  88.,  53.,  80.,  42.,  85.,  59.,  39.,  57.,\n",
       "         38.,  28.,  46.,  17.,  32.,  17.,  43.,  39.,  12.,  23.,   7.,\n",
       "         14.,  15.,   8.,   9.,   8.,  16.,  10.,   3.,   3.,   0.,   2.,\n",
       "          3.,   0.,   1.,   1.,   0.,   2.]),\n",
       " array([-2.1239135 , -2.01034842, -1.89678334, -1.78321827, -1.66965319,\n",
       "        -1.55608811, -1.44252303, -1.32895795, -1.21539287, -1.10182779,\n",
       "        -0.98826272, -0.87469764, -0.76113256, -0.64756748, -0.5340024 ,\n",
       "        -0.42043732, -0.30687224, -0.19330717, -0.07974209,  0.03382299,\n",
       "         0.14738807,  0.26095315,  0.37451823,  0.48808331,  0.60164838,\n",
       "         0.71521346,  0.82877854,  0.94234362,  1.0559087 ,  1.16947378,\n",
       "         1.28303885,  1.39660393,  1.51016901,  1.62373409,  1.73729917,\n",
       "         1.85086425,  1.96442933,  2.0779944 ,  2.19155948,  2.30512456,\n",
       "         2.41868964,  2.53225472,  2.6458198 ,  2.75938488,  2.87294995,\n",
       "         2.98651503,  3.10008011,  3.21364519,  3.32721027,  3.44077535,\n",
       "         3.55434043]),\n",
       " <a list of 50 Patch objects>)"
      ]
     },
     "execution_count": 15,
     "metadata": {},
     "output_type": "execute_result"
    },
    {
     "data": {
      "image/png": "[encoded data removed]",
      "text/plain": [
       "<matplotlib.figure.Figure at 0x15e486b28d0>"
      ]
     },
     "metadata": {},
     "output_type": "display_data"
    }
   ],
   "source": [
    "plt.hist(titanic.fare, bins=50, color='red', alpha=0.5)\n",
    "plt.hist(titanic.age, bins=50, color='blue', alpha=0.5)"
   ]
  },
  {
   "cell_type": "markdown",
   "metadata": {},
   "source": [
    "### Encodage binaire des données qualitatives"
   ]
  },
  {
   "cell_type": "code",
   "execution_count": 16,
   "metadata": {},
   "outputs": [
    {
     "name": "stdout",
     "output_type": "stream",
     "text": [
      "<class 'pandas.core.frame.DataFrame'>\n",
      "RangeIndex: 1309 entries, 0 to 1308\n",
      "Data columns (total 8 columns):\n",
      "pclass      1309 non-null int64\n",
      "survived    1309 non-null int64\n",
      "sex         1309 non-null object\n",
      "age         1309 non-null float64\n",
      "sibsp       1309 non-null int64\n",
      "parch       1309 non-null int64\n",
      "fare        1309 non-null float64\n",
      "embarked    1309 non-null object\n",
      "dtypes: float64(2), int64(4), object(2)\n",
      "memory usage: 81.9+ KB\n"
     ]
    }
   ],
   "source": [
    "titanic.info()"
   ]
  },
  {
   "cell_type": "markdown",
   "metadata": {},
   "source": [
    "La plupart des algorithmes ont besoin de données numériques, et n'acceptent pas les chaînes de caractères :"
   ]
  },
  {
   "cell_type": "code",
   "execution_count": 17,
   "metadata": {},
   "outputs": [],
   "source": [
    "titanic.sex = titanic.sex.map({\"male\":0, \"female\":1})"
   ]
  },
  {
   "cell_type": "markdown",
   "metadata": {},
   "source": [
    "On utilise la fonction *get_dummies* de Pandas pour transformer les colonnes multimodales (par exemple 'embarked') en plusieurs colonnes binaires (par exemple 'embarked_C' dont les valeurs sont 1 si le passager a embarqué à Cherbourg et 0 sinon) :"
   ]
  },
  {
   "cell_type": "code",
   "execution_count": 18,
   "metadata": {},
   "outputs": [],
   "source": [
    "titanic = pd.get_dummies(data=titanic, columns=['pclass', 'embarked'])"
   ]
  },
  {
   "cell_type": "code",
   "execution_count": 19,
   "metadata": {},
   "outputs": [
    {
     "data": {
      "text/html": [
       "<div>\n",
       "<style scoped>\n",
       "    .dataframe tbody tr th:only-of-type {\n",
       "        vertical-align: middle;\n",
       "    }\n",
       "\n",
       "    .dataframe tbody tr th {\n",
       "        vertical-align: top;\n",
       "    }\n",
       "\n",
       "    .dataframe thead th {\n",
       "        text-align: right;\n",
       "    }\n",
       "</style>\n",
       "<table border=\"1\" class=\"dataframe\">\n",
       "  <thead>\n",
       "    <tr style=\"text-align: right;\">\n",
       "      <th></th>\n",
       "      <th>survived</th>\n",
       "      <th>sex</th>\n",
       "      <th>age</th>\n",
       "      <th>sibsp</th>\n",
       "      <th>parch</th>\n",
       "      <th>fare</th>\n",
       "      <th>pclass_1</th>\n",
       "      <th>pclass_2</th>\n",
       "      <th>pclass_3</th>\n",
       "      <th>embarked_C</th>\n",
       "      <th>embarked_Q</th>\n",
       "      <th>embarked_S</th>\n",
       "    </tr>\n",
       "  </thead>\n",
       "  <tbody>\n",
       "    <tr>\n",
       "      <th>0</th>\n",
       "      <td>1</td>\n",
       "      <td>1</td>\n",
       "      <td>-0.073105</td>\n",
       "      <td>0</td>\n",
       "      <td>0</td>\n",
       "      <td>3.442540</td>\n",
       "      <td>1</td>\n",
       "      <td>0</td>\n",
       "      <td>0</td>\n",
       "      <td>0</td>\n",
       "      <td>0</td>\n",
       "      <td>1</td>\n",
       "    </tr>\n",
       "    <tr>\n",
       "      <th>1</th>\n",
       "      <td>1</td>\n",
       "      <td>0</td>\n",
       "      <td>-2.070569</td>\n",
       "      <td>1</td>\n",
       "      <td>2</td>\n",
       "      <td>2.286641</td>\n",
       "      <td>1</td>\n",
       "      <td>0</td>\n",
       "      <td>0</td>\n",
       "      <td>0</td>\n",
       "      <td>0</td>\n",
       "      <td>1</td>\n",
       "    </tr>\n",
       "    <tr>\n",
       "      <th>2</th>\n",
       "      <td>0</td>\n",
       "      <td>1</td>\n",
       "      <td>-1.993518</td>\n",
       "      <td>1</td>\n",
       "      <td>2</td>\n",
       "      <td>2.286641</td>\n",
       "      <td>1</td>\n",
       "      <td>0</td>\n",
       "      <td>0</td>\n",
       "      <td>0</td>\n",
       "      <td>0</td>\n",
       "      <td>1</td>\n",
       "    </tr>\n",
       "    <tr>\n",
       "      <th>3</th>\n",
       "      <td>0</td>\n",
       "      <td>0</td>\n",
       "      <td>-0.001979</td>\n",
       "      <td>1</td>\n",
       "      <td>2</td>\n",
       "      <td>2.286641</td>\n",
       "      <td>1</td>\n",
       "      <td>0</td>\n",
       "      <td>0</td>\n",
       "      <td>0</td>\n",
       "      <td>0</td>\n",
       "      <td>1</td>\n",
       "    </tr>\n",
       "    <tr>\n",
       "      <th>4</th>\n",
       "      <td>0</td>\n",
       "      <td>1</td>\n",
       "      <td>-0.357611</td>\n",
       "      <td>1</td>\n",
       "      <td>2</td>\n",
       "      <td>2.286641</td>\n",
       "      <td>1</td>\n",
       "      <td>0</td>\n",
       "      <td>0</td>\n",
       "      <td>0</td>\n",
       "      <td>0</td>\n",
       "      <td>1</td>\n",
       "    </tr>\n",
       "  </tbody>\n",
       "</table>\n",
       "</div>"
      ],
      "text/plain": [
       "   survived  sex       age  sibsp  parch      fare  pclass_1  pclass_2  \\\n",
       "0         1    1 -0.073105      0      0  3.442540         1         0   \n",
       "1         1    0 -2.070569      1      2  2.286641         1         0   \n",
       "2         0    1 -1.993518      1      2  2.286641         1         0   \n",
       "3         0    0 -0.001979      1      2  2.286641         1         0   \n",
       "4         0    1 -0.357611      1      2  2.286641         1         0   \n",
       "\n",
       "   pclass_3  embarked_C  embarked_Q  embarked_S  \n",
       "0         0           0           0           1  \n",
       "1         0           0           0           1  \n",
       "2         0           0           0           1  \n",
       "3         0           0           0           1  \n",
       "4         0           0           0           1  "
      ]
     },
     "execution_count": 19,
     "metadata": {},
     "output_type": "execute_result"
    }
   ],
   "source": [
    "titanic.head()"
   ]
  },
  {
   "cell_type": "markdown",
   "metadata": {},
   "source": [
    "## Création des jeux d'apprentissage et de test"
   ]
  },
  {
   "cell_type": "markdown",
   "metadata": {},
   "source": [
    "On sépare le dataset en deux parties :\n",
    "- un ensemble d'apprentissage (entre 70% et 90% des données), qui va permettre d'entraîner le modèle\n",
    "- un ensemble de test (entre 10% et 30% des données), qui va permettre d'estimer la pertinence de la prédiction"
   ]
  },
  {
   "cell_type": "code",
   "execution_count": 20,
   "metadata": {},
   "outputs": [],
   "source": [
    "data_train = titanic.sample(frac=0.8)          # 80% des données avec frac=0.8\n",
    "data_test = titanic.drop(data_train.index)     # le reste des données pour le test"
   ]
  },
  {
   "cell_type": "code",
   "execution_count": 21,
   "metadata": {},
   "outputs": [],
   "source": [
    "# On peut sauvegarder cet échantillonnage sous la forme de fichiers, \n",
    "# de manière à éviter une variabilité des résultats due au choix aléatoire\n",
    "\n",
    "data_train.to_csv('titanic_train.csv', index=False)\n",
    "data_test.to_csv('titanic_test.csv', index=False)"
   ]
  },
  {
   "cell_type": "code",
   "execution_count": 22,
   "metadata": {},
   "outputs": [
    {
     "data": {
      "text/html": [
       "<div>\n",
       "<style scoped>\n",
       "    .dataframe tbody tr th:only-of-type {\n",
       "        vertical-align: middle;\n",
       "    }\n",
       "\n",
       "    .dataframe tbody tr th {\n",
       "        vertical-align: top;\n",
       "    }\n",
       "\n",
       "    .dataframe thead th {\n",
       "        text-align: right;\n",
       "    }\n",
       "</style>\n",
       "<table border=\"1\" class=\"dataframe\">\n",
       "  <thead>\n",
       "    <tr style=\"text-align: right;\">\n",
       "      <th></th>\n",
       "      <th>survived</th>\n",
       "      <th>sex</th>\n",
       "      <th>age</th>\n",
       "      <th>sibsp</th>\n",
       "      <th>parch</th>\n",
       "      <th>fare</th>\n",
       "      <th>pclass_1</th>\n",
       "      <th>pclass_2</th>\n",
       "      <th>pclass_3</th>\n",
       "      <th>embarked_C</th>\n",
       "      <th>embarked_Q</th>\n",
       "      <th>embarked_S</th>\n",
       "    </tr>\n",
       "  </thead>\n",
       "  <tbody>\n",
       "    <tr>\n",
       "      <th>0</th>\n",
       "      <td>0</td>\n",
       "      <td>0</td>\n",
       "      <td>-0.642116</td>\n",
       "      <td>0</td>\n",
       "      <td>0</td>\n",
       "      <td>-0.490691</td>\n",
       "      <td>0</td>\n",
       "      <td>0</td>\n",
       "      <td>1</td>\n",
       "      <td>0</td>\n",
       "      <td>0</td>\n",
       "      <td>1</td>\n",
       "    </tr>\n",
       "    <tr>\n",
       "      <th>1</th>\n",
       "      <td>0</td>\n",
       "      <td>0</td>\n",
       "      <td>0.140274</td>\n",
       "      <td>0</td>\n",
       "      <td>0</td>\n",
       "      <td>-0.493509</td>\n",
       "      <td>0</td>\n",
       "      <td>0</td>\n",
       "      <td>1</td>\n",
       "      <td>0</td>\n",
       "      <td>1</td>\n",
       "      <td>0</td>\n",
       "    </tr>\n",
       "    <tr>\n",
       "      <th>2</th>\n",
       "      <td>1</td>\n",
       "      <td>1</td>\n",
       "      <td>-0.428737</td>\n",
       "      <td>3</td>\n",
       "      <td>2</td>\n",
       "      <td>4.441355</td>\n",
       "      <td>1</td>\n",
       "      <td>0</td>\n",
       "      <td>0</td>\n",
       "      <td>0</td>\n",
       "      <td>0</td>\n",
       "      <td>1</td>\n",
       "    </tr>\n",
       "    <tr>\n",
       "      <th>3</th>\n",
       "      <td>0</td>\n",
       "      <td>0</td>\n",
       "      <td>0.175837</td>\n",
       "      <td>0</td>\n",
       "      <td>0</td>\n",
       "      <td>3.445682</td>\n",
       "      <td>1</td>\n",
       "      <td>0</td>\n",
       "      <td>0</td>\n",
       "      <td>1</td>\n",
       "      <td>0</td>\n",
       "      <td>0</td>\n",
       "    </tr>\n",
       "    <tr>\n",
       "      <th>4</th>\n",
       "      <td>1</td>\n",
       "      <td>1</td>\n",
       "      <td>-1.566759</td>\n",
       "      <td>1</td>\n",
       "      <td>1</td>\n",
       "      <td>-0.140674</td>\n",
       "      <td>0</td>\n",
       "      <td>1</td>\n",
       "      <td>0</td>\n",
       "      <td>0</td>\n",
       "      <td>0</td>\n",
       "      <td>1</td>\n",
       "    </tr>\n",
       "  </tbody>\n",
       "</table>\n",
       "</div>"
      ],
      "text/plain": [
       "   survived  sex       age  sibsp  parch      fare  pclass_1  pclass_2  \\\n",
       "0         0    0 -0.642116      0      0 -0.490691         0         0   \n",
       "1         0    0  0.140274      0      0 -0.493509         0         0   \n",
       "2         1    1 -0.428737      3      2  4.441355         1         0   \n",
       "3         0    0  0.175837      0      0  3.445682         1         0   \n",
       "4         1    1 -1.566759      1      1 -0.140674         0         1   \n",
       "\n",
       "   pclass_3  embarked_C  embarked_Q  embarked_S  \n",
       "0         1           0           0           1  \n",
       "1         1           0           1           0  \n",
       "2         0           0           0           1  \n",
       "3         0           1           0           0  \n",
       "4         0           0           0           1  "
      ]
     },
     "execution_count": 22,
     "metadata": {},
     "output_type": "execute_result"
    }
   ],
   "source": [
    "# On peut utiliser les fichiers fournis pour avoir une base équitable\n",
    "data_train = pd.read_csv('titanic_train0.csv')\n",
    "data_test = pd.read_csv('titanic_test0.csv')\n",
    "data_train.head()"
   ]
  },
  {
   "cell_type": "markdown",
   "metadata": {},
   "source": [
    "On sépare les données d'apprentissage (*X_train*) et la cible (*Y_train*, la colonnes des données *survived*)"
   ]
  },
  {
   "cell_type": "code",
   "execution_count": 23,
   "metadata": {},
   "outputs": [],
   "source": [
    "X_train = data_train.drop(['survived'], axis=1)\n",
    "Y_train = data_train.survived\n",
    "X_test = data_test.drop(['survived'], axis=1)\n",
    "Y_test = data_test.survived"
   ]
  },
  {
   "cell_type": "code",
   "execution_count": 24,
   "metadata": {},
   "outputs": [
    {
     "name": "stdout",
     "output_type": "stream",
     "text": [
      "(1047, 11)\n",
      "(262, 11)\n"
     ]
    }
   ],
   "source": [
    "print(X_train.shape)\n",
    "print(X_test.shape)"
   ]
  },
  {
   "cell_type": "code",
   "execution_count": 76,
   "metadata": {},
   "outputs": [
    {
     "name": "stdout",
     "output_type": "stream",
     "text": [
      "0.8206106870229007\n"
     ]
    }
   ],
   "source": [
    "from sklearn import ensemble, metrics\n",
    "\n",
    "rf = ensemble.RandomForestClassifier()\n",
    "rf.fit(X_train, Y_train)\n",
    "Y_rf = rf.predict(X_test)\n",
    "rf_score = metrics.accuracy_score(Y_test, Y_rf)\n",
    "print(rf_score)"
   ]
  },
  {
   "cell_type": "code",
   "execution_count": 77,
   "metadata": {},
   "outputs": [
    {
     "data": {
      "text/plain": [
       "Text(0.5,1,'Importance des caracteristiques')"
      ]
     },
     "execution_count": 77,
     "metadata": {},
     "output_type": "execute_result"
    },
    {
     "data": {
      "text/plain": [
       "<matplotlib.figure.Figure at 0x15e48eb53c8>"
      ]
     },
     "metadata": {},
     "output_type": "display_data"
    },
    {
     "data": {
      "image/png": "[encoded data removed]",
      "text/plain": [
       "<matplotlib.figure.Figure at 0x15e48b42550>"
      ]
     },
     "metadata": {},
     "output_type": "display_data"
    }
   ],
   "source": [
    "rf.feature_importances_\n",
    "importances = list(zip(rf.feature_importances_, X_train.columns))\n",
    "importances.sort(reverse=False)\n",
    "plt.figure(figsize=(12,10))\n",
    "pd.DataFrame(importances, index=[x for (_,x) in importances]).plot(kind = 'barh')\n",
    "plt.title('Importance des caracteristiques')"
   ]
  }
 ],
 "metadata": {
  "anaconda-cloud": {},
  "kernelspec": {
   "display_name": "Python 3",
   "language": "python",
   "name": "python3"
  },
  "language_info": {
   "codemirror_mode": {
    "name": "ipython",
    "version": 3
   },
   "file_extension": ".py",
   "mimetype": "text/x-python",
   "name": "python",
   "nbconvert_exporter": "python",
   "pygments_lexer": "ipython3",
   "version": "3.6.3"
  }
 },
 "nbformat": 4,
 "nbformat_minor": 1
}
