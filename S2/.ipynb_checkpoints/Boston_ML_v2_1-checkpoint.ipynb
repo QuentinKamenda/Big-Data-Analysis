{
 "cells": [
  {
   "cell_type": "markdown",
   "metadata": {
    "nbpresent": {
     "id": "89e58dae-9857-478d-b2c4-588ce1adb86b"
    }
   },
   "source": [
    "# Exemple d'analyse d'un dataset : prix des maisons à Boston"
   ]
  },
  {
   "cell_type": "markdown",
   "metadata": {
    "nbpresent": {
     "id": "fd63acb5-706a-4950-8d70-84597d401d53"
    }
   },
   "source": [
    "\n",
    "** Exemple de régressions **"
   ]
  },
  {
   "cell_type": "markdown",
   "metadata": {
    "nbpresent": {
     "id": "dc50f70a-49b2-4e7e-9a30-a6fa8b14a2e5"
    }
   },
   "source": [
    "## Importations des librairies courantes"
   ]
  },
  {
   "cell_type": "code",
   "execution_count": 1,
   "metadata": {
    "collapsed": true,
    "nbpresent": {
     "id": "97af843d-ecc5-4241-86d1-5f7519f6479b"
    }
   },
   "outputs": [],
   "source": [
    "# Directive pour afficher les graphiques dans Jupyter (inutile si on utilise Spyder)\n",
    "%matplotlib inline"
   ]
  },
  {
   "cell_type": "code",
   "execution_count": 2,
   "metadata": {
    "collapsed": true,
    "nbpresent": {
     "id": "416a5cdd-b945-462e-b441-afa9c9f44b50"
    }
   },
   "outputs": [],
   "source": [
    "# Pandas : librairie de manipulation de données\n",
    "# NumPy : librairie de calcul scientifique\n",
    "# MatPlotLib : librairie de visualisation et graphiques\n",
    "import pandas as pd\n",
    "import numpy as np\n",
    "from matplotlib import pyplot as plt\n",
    "import seaborn as sns"
   ]
  },
  {
   "cell_type": "markdown",
   "metadata": {
    "nbpresent": {
     "id": "5e9856c4-f694-4e8a-933c-954bb112cea0"
    }
   },
   "source": [
    "## Lecture du fichier"
   ]
  },
  {
   "cell_type": "code",
   "execution_count": 3,
   "metadata": {
    "nbpresent": {
     "id": "331889d4-ba34-4165-83a8-112e5a92ec75"
    }
   },
   "outputs": [],
   "source": [
    "#lecture des ensembles d'apprentissage et de test\n",
    "data_train=pd.read_csv(\"boston_train.csv\")\n",
    "data_test=pd.read_csv(\"boston_test.csv\")\n"
   ]
  },
  {
   "cell_type": "markdown",
   "metadata": {
    "nbpresent": {
     "id": "b238f15e-5e65-452b-bb4e-315f60b2dde5"
    }
   },
   "source": [
    "On veut estimer la valeur, qu'on positionne dans un vecteur *Y*, et les paramètres dans une table *X* :"
   ]
  },
  {
   "cell_type": "code",
   "execution_count": 4,
   "metadata": {
    "nbpresent": {
     "id": "ae60d0f4-7445-4b02-aea1-b9e8c57e88b2"
    }
   },
   "outputs": [],
   "source": [
    "Y_train = data_train.MV\n",
    "X_train = data_train.drop(['MV'], axis=1)\n",
    "Y_test = data_test.MV\n",
    "X_test = data_test.drop(['MV'], axis=1)"
   ]
  },
  {
   "cell_type": "markdown",
   "metadata": {},
   "source": [
    "On vérifie les dimensions :"
   ]
  },
  {
   "cell_type": "code",
   "execution_count": 5,
   "metadata": {
    "nbpresent": {
     "id": "965766dc-5aa6-4221-93bb-3a47daa10511"
    }
   },
   "outputs": [
    {
     "name": "stdout",
     "output_type": "stream",
     "text": [
      "(392, 12)\n",
      "(98, 12)\n",
      "(392,)\n",
      "(98,)\n"
     ]
    }
   ],
   "source": [
    "print(X_train.shape)\n",
    "print(X_test.shape)\n",
    "print(Y_train.shape)\n",
    "print(Y_test.shape)"
   ]
  },
  {
   "cell_type": "markdown",
   "metadata": {},
   "source": [
    "## Régression linéaire multiple"
   ]
  },
  {
   "cell_type": "markdown",
   "metadata": {
    "nbpresent": {
     "id": "ec8dfd99-f29b-4d17-a30d-22b938a83a49"
    }
   },
   "source": [
    "On utilise la fonction de régression linéaire multiple de *sklearn* :"
   ]
  },
  {
   "cell_type": "code",
   "execution_count": 6,
   "metadata": {
    "collapsed": true,
    "nbpresent": {
     "id": "6ef22564-cb66-4ebc-980f-7ec7a8bd641f"
    }
   },
   "outputs": [],
   "source": [
    "from sklearn.linear_model import LinearRegression"
   ]
  },
  {
   "cell_type": "code",
   "execution_count": 7,
   "metadata": {
    "nbpresent": {
     "id": "2560f2ec-08a0-4eb5-9050-3a0f79b09a58"
    }
   },
   "outputs": [],
   "source": [
    "lm = LinearRegression()\n",
    "lm.fit(X_train, Y_train)            # apprentissage\n",
    "Y_pred = lm.predict(X_test)         # prédiction sur l'ensemble de test"
   ]
  },
  {
   "cell_type": "markdown",
   "metadata": {
    "nbpresent": {
     "id": "2a8129b6-d5d6-47cd-9d98-bb3301e37094"
    }
   },
   "source": [
    "On trace le nuage de points pour comparer la prédiction et les résultats attendus :"
   ]
  },
  {
   "cell_type": "code",
   "execution_count": 8,
   "metadata": {
    "nbpresent": {
     "id": "988cb464-d3e4-482b-9304-6a73b0b87804"
    }
   },
   "outputs": [
    {
     "data": {
      "text/plain": [
       "Text(0.5,1,'Prix reels vs predictions')"
      ]
     },
     "execution_count": 8,
     "metadata": {},
     "output_type": "execute_result"
    },
    {
     "data": {
      "image/png": "[encoded data removed]",
      "text/plain": [
       "<matplotlib.figure.Figure at 0x1dbde4abbe0>"
      ]
     },
     "metadata": {},
     "output_type": "display_data"
    }
   ],
   "source": [
    "plt.scatter(Y_test, Y_pred)\n",
    "plt.plot([Y_test.min(),Y_test.max()],[Y_test.min(),Y_test.max()], color='red', linewidth=3)\n",
    "plt.xlabel(\"Prix\")\n",
    "plt.ylabel(\"Prediction de prix\")\n",
    "plt.title(\"Prix reels vs predictions\")"
   ]
  },
  {
   "cell_type": "markdown",
   "metadata": {
    "nbpresent": {
     "id": "bd92afec-9fc6-48a7-b695-f8a0287e503c"
    }
   },
   "source": [
    "ou on peut visualiser la distribution de l'erreur avec *seaborn* :"
   ]
  },
  {
   "cell_type": "code",
   "execution_count": 9,
   "metadata": {
    "nbpresent": {
     "id": "2ece619f-f74c-4a33-9379-50e75287ee0a"
    }
   },
   "outputs": [
    {
     "data": {
      "text/plain": [
       "<matplotlib.axes._subplots.AxesSubplot at 0x1dbde42c9b0>"
      ]
     },
     "execution_count": 9,
     "metadata": {},
     "output_type": "execute_result"
    },
    {
     "data": {
      "image/png": "[encoded data removed]",
      "text/plain": [
       "<matplotlib.figure.Figure at 0x1dbde4ab7f0>"
      ]
     },
     "metadata": {},
     "output_type": "display_data"
    }
   ],
   "source": [
    "sns.distplot(Y_test-Y_pred)"
   ]
  },
  {
   "cell_type": "markdown",
   "metadata": {
    "collapsed": true
   },
   "source": [
    "On peut calculer l'erreur sur les moindres carrés :"
   ]
  },
  {
   "cell_type": "code",
   "execution_count": 10,
   "metadata": {},
   "outputs": [
    {
     "name": "stdout",
     "output_type": "stream",
     "text": [
      "12.1164657055\n"
     ]
    }
   ],
   "source": [
    "from sklearn import metrics\n",
    "print(metrics.mean_squared_error(Y_test, Y_pred))"
   ]
  },
  {
   "cell_type": "markdown",
   "metadata": {},
   "source": [
    "Ou le *score R2* (rapport des variances estimée/réelle) :\n",
    "(https://fr.wikipedia.org/wiki/Coefficient_de_d%C3%A9termination)"
   ]
  },
  {
   "cell_type": "code",
   "execution_count": 11,
   "metadata": {},
   "outputs": [
    {
     "name": "stdout",
     "output_type": "stream",
     "text": [
      "0.776621899686\n"
     ]
    }
   ],
   "source": [
    "scoreR2 = metrics.r2_score(Y_test, Y_pred)\n",
    "print(scoreR2)"
   ]
  },
  {
   "cell_type": "markdown",
   "metadata": {
    "collapsed": true
   },
   "source": [
    "## Régression par forêts aléatoires"
   ]
  },
  {
   "cell_type": "code",
   "execution_count": 12,
   "metadata": {},
   "outputs": [],
   "source": [
    "from sklearn import ensemble\n",
    "rf = ensemble.RandomForestRegressor()\n",
    "rf.fit(X_train, Y_train)\n",
    "Y_rf = rf.predict(X_test)"
   ]
  },
  {
   "cell_type": "code",
   "execution_count": 13,
   "metadata": {},
   "outputs": [
    {
     "data": {
      "text/plain": [
       "Text(0.5,1,'Prix reels vs predictions')"
      ]
     },
     "execution_count": 13,
     "metadata": {},
     "output_type": "execute_result"
    },
    {
     "data": {
      "image/png": "[encoded data removed]",
      "text/plain": [
       "<matplotlib.figure.Figure at 0x1dbdeed9320>"
      ]
     },
     "metadata": {},
     "output_type": "display_data"
    }
   ],
   "source": [
    "plt.scatter(Y_test, Y_rf)\n",
    "plt.plot([Y_test.min(),Y_test.max()],[Y_test.min(),Y_test.max()], color='red', linewidth=3)\n",
    "plt.xlabel(\"Prix\")\n",
    "plt.ylabel(\"Prediction de prix\")\n",
    "plt.title(\"Prix reels vs predictions\")"
   ]
  },
  {
   "cell_type": "code",
   "execution_count": 14,
   "metadata": {},
   "outputs": [
    {
     "data": {
      "text/plain": [
       "<matplotlib.axes._subplots.AxesSubplot at 0x1dbdeef3668>"
      ]
     },
     "execution_count": 14,
     "metadata": {},
     "output_type": "execute_result"
    },
    {
     "data": {
      "image/png": "[encoded data removed]",
      "text/plain": [
       "<matplotlib.figure.Figure at 0x1dbdeecd240>"
      ]
     },
     "metadata": {},
     "output_type": "display_data"
    }
   ],
   "source": [
    "sns.distplot(Y_test-Y_rf)"
   ]
  },
  {
   "cell_type": "code",
   "execution_count": 15,
   "metadata": {},
   "outputs": [
    {
     "name": "stdout",
     "output_type": "stream",
     "text": [
      "9.72101490973\n"
     ]
    }
   ],
   "source": [
    "print(metrics.mean_squared_error(Y_test, Y_rf))"
   ]
  },
  {
   "cell_type": "code",
   "execution_count": 16,
   "metadata": {
    "collapsed": true
   },
   "outputs": [],
   "source": [
    "from sklearn import model_selection\n",
    "param_grid = {\n",
    "              'n_estimators': [50, 100, 500],\n",
    "              'min_samples_leaf': [1, 3, 5]\n",
    "             }\n",
    "estimator = ensemble.RandomForestRegressor()\n",
    "rf_gs = model_selection.GridSearchCV(estimator, param_grid)"
   ]
  },
  {
   "cell_type": "code",
   "execution_count": 17,
   "metadata": {},
   "outputs": [
    {
     "data": {
      "text/plain": [
       "GridSearchCV(cv=None, error_score='raise',\n",
       "       estimator=RandomForestRegressor(bootstrap=True, criterion='mse', max_depth=None,\n",
       "           max_features='auto', max_leaf_nodes=None,\n",
       "           min_impurity_decrease=0.0, min_impurity_split=None,\n",
       "           min_samples_leaf=1, min_samples_split=2,\n",
       "           min_weight_fraction_leaf=0.0, n_estimators=10, n_jobs=1,\n",
       "           oob_score=False, random_state=None, verbose=0, warm_start=False),\n",
       "       fit_params=None, iid=True, n_jobs=1,\n",
       "       param_grid={'n_estimators': [50, 100, 500], 'min_samples_leaf': [1, 3, 5]},\n",
       "       pre_dispatch='2*n_jobs', refit=True, return_train_score='warn',\n",
       "       scoring=None, verbose=0)"
      ]
     },
     "execution_count": 17,
     "metadata": {},
     "output_type": "execute_result"
    }
   ],
   "source": [
    "rf_gs.fit(X_train, Y_train)"
   ]
  },
  {
   "cell_type": "code",
   "execution_count": 18,
   "metadata": {},
   "outputs": [
    {
     "name": "stdout",
     "output_type": "stream",
     "text": [
      "{'min_samples_leaf': 1, 'n_estimators': 500}\n"
     ]
    }
   ],
   "source": [
    "print(rf_gs.best_params_)"
   ]
  },
  {
   "cell_type": "code",
   "execution_count": 19,
   "metadata": {
    "collapsed": true
   },
   "outputs": [],
   "source": [
    "rf2 = rf_gs.best_estimator_\n",
    "Y_rf2 = rf.predict(X_test)"
   ]
  },
  {
   "cell_type": "code",
   "execution_count": 20,
   "metadata": {},
   "outputs": [
    {
     "name": "stdout",
     "output_type": "stream",
     "text": [
      "9.72101490973\n"
     ]
    }
   ],
   "source": [
    "print(metrics.mean_squared_error(Y_test, Y_rf2))"
   ]
  },
  {
   "cell_type": "code",
   "execution_count": null,
   "metadata": {
    "collapsed": true
   },
   "outputs": [],
   "source": []
  }
 ],
 "metadata": {
  "anaconda-cloud": {},
  "celltoolbar": "Raw Cell Format",
  "kernelspec": {
   "display_name": "Python 3",
   "language": "python",
   "name": "python3"
  },
  "language_info": {
   "codemirror_mode": {
    "name": "ipython",
    "version": 3
   },
   "file_extension": ".py",
   "mimetype": "text/x-python",
   "name": "python",
   "nbconvert_exporter": "python",
   "pygments_lexer": "ipython3",
   "version": "3.6.3"
  },
  "nbpresent": {
   "slides": {
    "074f5230-2b4e-4993-8742-1407dc8bc854": {
     "id": "074f5230-2b4e-4993-8742-1407dc8bc854",
     "prev": "0ae13d1b-4057-470b-962f-a35e897dbe13",
     "regions": {
      "b338cb3d-39e0-42b4-bbaa-70c3ad81a1d2": {
       "attrs": {
        "height": 0.8,
        "width": 0.8,
        "x": 0.1,
        "y": 0.1
       },
       "content": {
        "cell": "35c4fa65-1dad-4005-98ed-4ae900db0203",
        "part": "whole"
       },
       "id": "b338cb3d-39e0-42b4-bbaa-70c3ad81a1d2"
      }
     }
    },
    "0ae13d1b-4057-470b-962f-a35e897dbe13": {
     "id": "0ae13d1b-4057-470b-962f-a35e897dbe13",
     "prev": "0fb96351-8b43-4731-8077-d606e38b1180",
     "regions": {
      "ec4676ab-ff9b-4487-9408-019f292516e9": {
       "attrs": {
        "height": 0.8,
        "width": 0.8,
        "x": 0.1,
        "y": 0.1
       },
       "content": {
        "cell": "2c8781fe-3426-4f61-a6cb-7d4e873eef57",
        "part": "whole"
       },
       "id": "ec4676ab-ff9b-4487-9408-019f292516e9"
      }
     }
    },
    "0d0b91d3-c556-423f-9e3d-53adbba41a60": {
     "id": "0d0b91d3-c556-423f-9e3d-53adbba41a60",
     "prev": "f14ba6b9-a448-4609-902d-f70394079e16",
     "regions": {
      "42175934-5a86-43fb-9007-d2c83fc7f9de": {
       "attrs": {
        "height": 0.8,
        "width": 0.8,
        "x": 0.1,
        "y": 0.1
       },
       "content": {
        "cell": "fe2b9238-a5ca-49ee-8713-620cd13a36e2",
        "part": "whole"
       },
       "id": "42175934-5a86-43fb-9007-d2c83fc7f9de"
      }
     }
    },
    "0d45c30e-8cd5-4e8f-96b0-fdab9e591ec0": {
     "id": "0d45c30e-8cd5-4e8f-96b0-fdab9e591ec0",
     "prev": "21947b41-ceb3-4345-8182-7493d2ae0673",
     "regions": {
      "1cb9ac3a-aafa-4d1d-b723-a0ef7e99b928": {
       "attrs": {
        "height": 0.8,
        "width": 0.8,
        "x": 0.1,
        "y": 0.1
       },
       "content": {
        "cell": "f6578eed-d61f-4596-aa60-fc09bbd1ef8d",
        "part": "whole"
       },
       "id": "1cb9ac3a-aafa-4d1d-b723-a0ef7e99b928"
      }
     }
    },
    "0d6686c0-7513-48d3-aab7-0fbe81a98f43": {
     "id": "0d6686c0-7513-48d3-aab7-0fbe81a98f43",
     "prev": "3a78a289-0724-423a-b261-8b10f1f3aa6b",
     "regions": {
      "ac233a60-8f34-434a-a98e-2f17ddebebaf": {
       "attrs": {
        "height": 0.8,
        "width": 0.8,
        "x": 0.1,
        "y": 0.1
       },
       "content": {
        "cell": "864d0e2b-7638-40b0-84be-cb494fe4230b",
        "part": "whole"
       },
       "id": "ac233a60-8f34-434a-a98e-2f17ddebebaf"
      }
     }
    },
    "0fb96351-8b43-4731-8077-d606e38b1180": {
     "id": "0fb96351-8b43-4731-8077-d606e38b1180",
     "prev": "9464e9c8-e33c-4858-88d4-f79533d86786",
     "regions": {
      "38c0c946-36c2-4977-bb6b-283206868a98": {
       "attrs": {
        "height": 0.8,
        "width": 0.8,
        "x": 0.1,
        "y": 0.1
       },
       "content": {
        "cell": "666bedcd-b9d0-4d74-b602-71675d2f49a4",
        "part": "whole"
       },
       "id": "38c0c946-36c2-4977-bb6b-283206868a98"
      }
     }
    },
    "14abfec6-f14b-45e7-a096-c479edd21fd2": {
     "id": "14abfec6-f14b-45e7-a096-c479edd21fd2",
     "prev": "9c041f5f-fd7e-454e-ac03-2224e312283e",
     "regions": {
      "2c72976c-2a67-4b87-a41d-db742046baae": {
       "attrs": {
        "height": 0.8,
        "width": 0.8,
        "x": 0.1,
        "y": 0.1
       },
       "content": {
        "cell": "8f0a3573-9bfd-498e-b57b-110d76792460",
        "part": "whole"
       },
       "id": "2c72976c-2a67-4b87-a41d-db742046baae"
      }
     }
    },
    "170ce2e8-5f76-4a10-bfdf-21fe76ecdd45": {
     "id": "170ce2e8-5f76-4a10-bfdf-21fe76ecdd45",
     "prev": "8e6c5ae2-339b-40c4-9674-a302aeddcb05",
     "regions": {
      "5854c15c-798c-483e-bedb-a3ea8560c4fb": {
       "attrs": {
        "height": 0.8,
        "width": 0.8,
        "x": 0.1,
        "y": 0.1
       },
       "content": {
        "cell": "20d9cb48-e44e-4a00-80a3-317efb3304e7",
        "part": "whole"
       },
       "id": "5854c15c-798c-483e-bedb-a3ea8560c4fb"
      }
     }
    },
    "1eaf5da5-65a3-45fc-bc30-91745fb49613": {
     "id": "1eaf5da5-65a3-45fc-bc30-91745fb49613",
     "prev": "dd814d07-4469-4b17-b309-bcbf6240cdf7",
     "regions": {
      "b8e02aa7-73a5-48c6-81a0-679535e2d5e3": {
       "attrs": {
        "height": 0.8,
        "width": 0.8,
        "x": 0.1,
        "y": 0.1
       },
       "content": {
        "cell": "4a7b082c-97c4-49e3-a3f3-cc7f33c94441",
        "part": "whole"
       },
       "id": "b8e02aa7-73a5-48c6-81a0-679535e2d5e3"
      }
     }
    },
    "2011bb17-9319-45b0-b34f-71860cd2ee2b": {
     "id": "2011bb17-9319-45b0-b34f-71860cd2ee2b",
     "prev": "2d0f231e-68b8-4e69-a4c6-d390fd55d6f2",
     "regions": {
      "685c1bf5-3b21-418f-93aa-af054a943f64": {
       "attrs": {
        "height": 0.8,
        "width": 0.8,
        "x": 0.1,
        "y": 0.1
       },
       "content": {
        "cell": "b2fdc7cc-a3cf-4dcd-a35d-ce9d15fdafd4",
        "part": "whole"
       },
       "id": "685c1bf5-3b21-418f-93aa-af054a943f64"
      }
     }
    },
    "21947b41-ceb3-4345-8182-7493d2ae0673": {
     "id": "21947b41-ceb3-4345-8182-7493d2ae0673",
     "prev": "c5c94dcf-3af9-45aa-9efd-9c67bddd5ade",
     "regions": {
      "88800181-f84b-4a99-813a-95d6600cbbaa": {
       "attrs": {
        "height": 0.8,
        "width": 0.8,
        "x": 0.1,
        "y": 0.1
       },
       "content": {
        "cell": "7c99bb50-95d2-4641-9589-bb09c23ed3dd",
        "part": "whole"
       },
       "id": "88800181-f84b-4a99-813a-95d6600cbbaa"
      }
     }
    },
    "2d0f231e-68b8-4e69-a4c6-d390fd55d6f2": {
     "id": "2d0f231e-68b8-4e69-a4c6-d390fd55d6f2",
     "prev": "4a1b950a-9c4e-46c3-a223-fd9a33e1c705",
     "regions": {
      "8e07c59d-af49-4658-ad96-4f6093a12828": {
       "attrs": {
        "height": 0.8,
        "width": 0.8,
        "x": 0.1,
        "y": 0.1
       },
       "content": {
        "cell": "e7b9a038-49f4-49da-915f-ba657b844270",
        "part": "whole"
       },
       "id": "8e07c59d-af49-4658-ad96-4f6093a12828"
      }
     }
    },
    "31eab38d-4644-46bb-b2d4-8042fe2e621f": {
     "id": "31eab38d-4644-46bb-b2d4-8042fe2e621f",
     "prev": "797ddee2-af2d-4f66-85d5-b6da5e4bc183",
     "regions": {
      "5ca138c3-67ca-4cdc-b510-599de5893b9e": {
       "attrs": {
        "height": 0.8,
        "width": 0.8,
        "x": 0.1,
        "y": 0.1
       },
       "content": {
        "cell": "14bfae8a-de63-44a5-8ec5-27a9d77bc807",
        "part": "whole"
       },
       "id": "5ca138c3-67ca-4cdc-b510-599de5893b9e"
      }
     }
    },
    "337f5403-ad77-4682-ab4d-1926bbd062c6": {
     "id": "337f5403-ad77-4682-ab4d-1926bbd062c6",
     "prev": "99fb1a5c-3025-4549-9caa-ed010743cc75",
     "regions": {
      "312cd45c-4681-4cdc-83f9-1cb92fbf3a8c": {
       "attrs": {
        "height": 0.8,
        "width": 0.8,
        "x": 0.1,
        "y": 0.1
       },
       "content": {
        "cell": "595240ff-c61d-44ac-90c9-7c0303ca4f33",
        "part": "whole"
       },
       "id": "312cd45c-4681-4cdc-83f9-1cb92fbf3a8c"
      }
     }
    },
    "36ac1f46-c1b0-4132-9b51-000e074b0527": {
     "id": "36ac1f46-c1b0-4132-9b51-000e074b0527",
     "prev": "c289bc22-e7cf-4e68-b804-e513b8e65e93",
     "regions": {
      "21718552-1f04-48c6-a7d1-db97cf92c6b8": {
       "attrs": {
        "height": 0.8,
        "width": 0.8,
        "x": 0.1,
        "y": 0.1
       },
       "content": {
        "cell": "ab6bdb8b-f62d-4da0-8495-5b9b8e648816",
        "part": "whole"
       },
       "id": "21718552-1f04-48c6-a7d1-db97cf92c6b8"
      }
     }
    },
    "37751836-27be-4912-b21d-79d77a0305d5": {
     "id": "37751836-27be-4912-b21d-79d77a0305d5",
     "prev": "69e2fac9-1259-427b-9c00-fcc9aa8e782e",
     "regions": {
      "172893cd-5359-427c-b006-d249f8f68239": {
       "attrs": {
        "height": 0.8,
        "width": 0.8,
        "x": 0.1,
        "y": 0.1
       },
       "content": {
        "cell": "12485645-6e7a-4b98-86fe-681eac47355c",
        "part": "whole"
       },
       "id": "172893cd-5359-427c-b006-d249f8f68239"
      }
     }
    },
    "3a78a289-0724-423a-b261-8b10f1f3aa6b": {
     "id": "3a78a289-0724-423a-b261-8b10f1f3aa6b",
     "prev": "1eaf5da5-65a3-45fc-bc30-91745fb49613",
     "regions": {
      "f9e442d5-8fa1-40e1-a99f-44774a90c3f5": {
       "attrs": {
        "height": 0.8,
        "width": 0.8,
        "x": 0.1,
        "y": 0.1
       },
       "content": {
        "cell": "2985aa3a-17ad-4fe8-8dbe-6119b863576a",
        "part": "whole"
       },
       "id": "f9e442d5-8fa1-40e1-a99f-44774a90c3f5"
      }
     }
    },
    "43defa44-3e01-41b3-b12e-1825ae7e7d52": {
     "id": "43defa44-3e01-41b3-b12e-1825ae7e7d52",
     "prev": "074f5230-2b4e-4993-8742-1407dc8bc854",
     "regions": {
      "9694e527-6c5f-4c78-8c13-2392439efc9f": {
       "attrs": {
        "height": 0.8,
        "width": 0.8,
        "x": 0.1,
        "y": 0.1
       },
       "content": {
        "cell": "676223db-0be4-49e4-bc0c-3eed7de79d92",
        "part": "whole"
       },
       "id": "9694e527-6c5f-4c78-8c13-2392439efc9f"
      }
     }
    },
    "44b83eab-bb49-4433-8870-7db4d6f4c9f7": {
     "id": "44b83eab-bb49-4433-8870-7db4d6f4c9f7",
     "prev": "4cf7435b-f789-4ce6-9868-11a506798edc",
     "regions": {
      "e808fe5b-db16-4d7c-9048-8d2df6c517d6": {
       "attrs": {
        "height": 0.8,
        "width": 0.8,
        "x": 0.1,
        "y": 0.1
       },
       "content": {
        "cell": "aeece228-5ce1-41c2-8ce7-9c1db9feb8ef",
        "part": "whole"
       },
       "id": "e808fe5b-db16-4d7c-9048-8d2df6c517d6"
      }
     }
    },
    "44c646e3-1fd2-4156-beb0-f7c368cec255": {
     "id": "44c646e3-1fd2-4156-beb0-f7c368cec255",
     "prev": "d2fd7515-553e-4007-907d-634228dc0e61",
     "regions": {
      "65da07aa-3add-42ef-be25-c36152d1452e": {
       "attrs": {
        "height": 0.8,
        "width": 0.8,
        "x": 0.1,
        "y": 0.1
       },
       "content": {
        "cell": "dc50f70a-49b2-4e7e-9a30-a6fa8b14a2e5",
        "part": "whole"
       },
       "id": "65da07aa-3add-42ef-be25-c36152d1452e"
      }
     }
    },
    "45240fdd-22e4-47b7-9b53-43a47b993d2f": {
     "id": "45240fdd-22e4-47b7-9b53-43a47b993d2f",
     "prev": "ef1640e1-90b6-4041-a7a7-ff49f96efb2f",
     "regions": {
      "e40cf23b-3238-41c3-b7d0-3309826fb504": {
       "attrs": {
        "height": 0.8,
        "width": 0.8,
        "x": 0.1,
        "y": 0.1
       },
       "content": {
        "cell": "c30043d6-fc2c-4a55-8f2e-83f12bbef080",
        "part": "whole"
       },
       "id": "e40cf23b-3238-41c3-b7d0-3309826fb504"
      }
     }
    },
    "457b22a4-d4fc-4206-939f-dd4b2531efb6": {
     "id": "457b22a4-d4fc-4206-939f-dd4b2531efb6",
     "prev": "92bb463c-c22a-4c5a-9760-e2c060389083",
     "regions": {
      "9ca6f6fe-232d-4e5c-9564-56006eca0355": {
       "attrs": {
        "height": 0.8,
        "width": 0.8,
        "x": 0.1,
        "y": 0.1
       },
       "content": {
        "cell": "ca94301b-c650-426e-80fc-d33a64a2f9e6",
        "part": "whole"
       },
       "id": "9ca6f6fe-232d-4e5c-9564-56006eca0355"
      }
     }
    },
    "45f9ad27-634c-440f-a400-b028f9e4acc8": {
     "id": "45f9ad27-634c-440f-a400-b028f9e4acc8",
     "prev": "92ab4b60-4b43-4a10-a5f8-8fa46c6c28c1",
     "regions": {
      "06f7da8d-e009-4771-83f7-9776291f6e58": {
       "attrs": {
        "height": 0.8,
        "width": 0.8,
        "x": 0.1,
        "y": 0.1
       },
       "content": {
        "cell": "d9e104a5-d226-4693-8f9d-34cd1d2025d9",
        "part": "whole"
       },
       "id": "06f7da8d-e009-4771-83f7-9776291f6e58"
      }
     }
    },
    "4a1b950a-9c4e-46c3-a223-fd9a33e1c705": {
     "id": "4a1b950a-9c4e-46c3-a223-fd9a33e1c705",
     "prev": "fa8a6951-fa3a-4f13-91d7-ba2b52ead4c1",
     "regions": {
      "df62cbe6-7028-46ea-987b-86644a10ce3c": {
       "attrs": {
        "height": 0.8,
        "width": 0.8,
        "x": 0.1,
        "y": 0.1
       },
       "content": {
        "cell": "331889d4-ba34-4165-83a8-112e5a92ec75",
        "part": "whole"
       },
       "id": "df62cbe6-7028-46ea-987b-86644a10ce3c"
      }
     }
    },
    "4a2757a1-e9a4-464a-be41-0228e3626a29": {
     "id": "4a2757a1-e9a4-464a-be41-0228e3626a29",
     "prev": "37751836-27be-4912-b21d-79d77a0305d5",
     "regions": {
      "a8685c4b-be62-4c5e-be36-0f1a97736dbf": {
       "attrs": {
        "height": 0.8,
        "width": 0.8,
        "x": 0.1,
        "y": 0.1
       },
       "content": {
        "cell": "416fd7d2-f2ac-4c23-b127-6fa25ed93914",
        "part": "whole"
       },
       "id": "a8685c4b-be62-4c5e-be36-0f1a97736dbf"
      }
     }
    },
    "4cf7435b-f789-4ce6-9868-11a506798edc": {
     "id": "4cf7435b-f789-4ce6-9868-11a506798edc",
     "prev": "63843459-be11-46d9-a25a-ef5bbb5848ef",
     "regions": {
      "dc5aaba5-bb08-476e-8720-aec2c777a49d": {
       "attrs": {
        "height": 0.8,
        "width": 0.8,
        "x": 0.1,
        "y": 0.1
       },
       "content": {
        "cell": "52ed76f5-3794-4a15-89b8-dcf1a7346e9e",
        "part": "whole"
       },
       "id": "dc5aaba5-bb08-476e-8720-aec2c777a49d"
      }
     }
    },
    "52847f6f-1206-40df-88cf-5fb043cd3bb9": {
     "id": "52847f6f-1206-40df-88cf-5fb043cd3bb9",
     "prev": "45240fdd-22e4-47b7-9b53-43a47b993d2f",
     "regions": {
      "59fb7af2-191d-46ac-b9c5-df0b5b19bdd1": {
       "attrs": {
        "height": 0.8,
        "width": 0.8,
        "x": 0.1,
        "y": 0.1
       },
       "content": {
        "cell": "36ea30c4-21df-446b-b40f-0e87f49c026c",
        "part": "whole"
       },
       "id": "59fb7af2-191d-46ac-b9c5-df0b5b19bdd1"
      }
     }
    },
    "537338e8-e593-45f7-b4f2-e40c6be0bb3e": {
     "id": "537338e8-e593-45f7-b4f2-e40c6be0bb3e",
     "prev": "337f5403-ad77-4682-ab4d-1926bbd062c6",
     "regions": {
      "36b3a602-26f0-4710-80d6-f5c8802b8cbc": {
       "attrs": {
        "height": 0.8,
        "width": 0.8,
        "x": 0.1,
        "y": 0.1
       },
       "content": {
        "cell": "ca1446f6-83fc-4743-9e81-4225dd29e930",
        "part": "whole"
       },
       "id": "36b3a602-26f0-4710-80d6-f5c8802b8cbc"
      }
     }
    },
    "547fe142-c3ed-4a5a-acb7-d346cb0cf7f9": {
     "id": "547fe142-c3ed-4a5a-acb7-d346cb0cf7f9",
     "prev": "70aec6e6-d3f9-4b1e-9ddd-f379d5dd9c12",
     "regions": {
      "4d5516b0-b5ac-431f-9c09-cd437293489a": {
       "attrs": {
        "height": 0.8,
        "width": 0.8,
        "x": 0.1,
        "y": 0.1
       },
       "content": {
        "cell": "002d36fb-cf82-43af-beff-c4b2805ec4b2",
        "part": "whole"
       },
       "id": "4d5516b0-b5ac-431f-9c09-cd437293489a"
      }
     }
    },
    "5afffd30-6035-45cf-8128-f09a4fa5582f": {
     "id": "5afffd30-6035-45cf-8128-f09a4fa5582f",
     "prev": "fcdab8ef-675e-48cf-8b24-6d94df3db5e1",
     "regions": {
      "377f6778-f608-4547-bb13-77dc047a4081": {
       "attrs": {
        "height": 0.8,
        "width": 0.8,
        "x": 0.1,
        "y": 0.1
       },
       "content": {
        "cell": "6b2470cd-5225-4dc8-97b6-3af04be56cdb",
        "part": "whole"
       },
       "id": "377f6778-f608-4547-bb13-77dc047a4081"
      }
     }
    },
    "5d956f7e-8422-4168-b675-8c810e516156": {
     "id": "5d956f7e-8422-4168-b675-8c810e516156",
     "prev": "b4be3b3b-33b1-492c-a96e-cb36405db50a",
     "regions": {
      "d03a6256-7ed5-40ae-809a-df79923f0c52": {
       "attrs": {
        "height": 0.8,
        "width": 0.8,
        "x": 0.1,
        "y": 0.1
       },
       "content": {
        "cell": "988cb464-d3e4-482b-9304-6a73b0b87804",
        "part": "whole"
       },
       "id": "d03a6256-7ed5-40ae-809a-df79923f0c52"
      }
     }
    },
    "5dfd828d-7e28-41cb-86cd-4a64f00320be": {
     "id": "5dfd828d-7e28-41cb-86cd-4a64f00320be",
     "prev": "ad4754a3-2589-4551-80f3-553f39ebd509",
     "regions": {
      "70f1f45f-3a2a-4987-aefb-ccd4da434747": {
       "attrs": {
        "height": 0.8,
        "width": 0.8,
        "x": 0.1,
        "y": 0.1
       },
       "content": {
        "cell": "9f57d77e-47c1-424f-a896-72e2aa26d2fd",
        "part": "whole"
       },
       "id": "70f1f45f-3a2a-4987-aefb-ccd4da434747"
      }
     }
    },
    "63843459-be11-46d9-a25a-ef5bbb5848ef": {
     "id": "63843459-be11-46d9-a25a-ef5bbb5848ef",
     "prev": "547fe142-c3ed-4a5a-acb7-d346cb0cf7f9",
     "regions": {
      "18bf926e-339d-498b-8e13-20decaa57b80": {
       "attrs": {
        "height": 0.8,
        "width": 0.8,
        "x": 0.1,
        "y": 0.1
       },
       "content": {
        "cell": "220cbb7c-7cd3-449a-9861-18fd8f2f35df",
        "part": "whole"
       },
       "id": "18bf926e-339d-498b-8e13-20decaa57b80"
      }
     }
    },
    "6654e852-5e65-4c79-9dd8-db682d964dba": {
     "id": "6654e852-5e65-4c79-9dd8-db682d964dba",
     "prev": "db84f17e-1308-4f79-b2dd-970bc77e4bdd",
     "regions": {
      "6997abd9-f2c7-439d-a097-2b92c075e48f": {
       "attrs": {
        "height": 0.8,
        "width": 0.8,
        "x": 0.1,
        "y": 0.1
       },
       "content": {
        "cell": "12916459-e48a-4c35-9a85-72287b04fb72",
        "part": "whole"
       },
       "id": "6997abd9-f2c7-439d-a097-2b92c075e48f"
      }
     }
    },
    "69e2fac9-1259-427b-9c00-fcc9aa8e782e": {
     "id": "69e2fac9-1259-427b-9c00-fcc9aa8e782e",
     "prev": "31eab38d-4644-46bb-b2d4-8042fe2e621f",
     "regions": {
      "c75cec46-9781-4c7f-98cb-e49692fc7484": {
       "attrs": {
        "height": 0.8,
        "width": 0.8,
        "x": 0.1,
        "y": 0.1
       },
       "content": {
        "cell": "477113f9-2b43-42b4-bcc2-9d22889750e5",
        "part": "whole"
       },
       "id": "c75cec46-9781-4c7f-98cb-e49692fc7484"
      }
     }
    },
    "70aec6e6-d3f9-4b1e-9ddd-f379d5dd9c12": {
     "id": "70aec6e6-d3f9-4b1e-9ddd-f379d5dd9c12",
     "prev": "14abfec6-f14b-45e7-a096-c479edd21fd2",
     "regions": {
      "56a3abc5-b761-4ba4-a8e2-8c55c6c3d4f7": {
       "attrs": {
        "height": 0.8,
        "width": 0.8,
        "x": 0.1,
        "y": 0.1
       },
       "content": {
        "cell": "a3bfb7f3-c158-4185-b2e4-ff89730181b4",
        "part": "whole"
       },
       "id": "56a3abc5-b761-4ba4-a8e2-8c55c6c3d4f7"
      }
     }
    },
    "72fced55-faab-46f1-89e4-baa94e96c40c": {
     "id": "72fced55-faab-46f1-89e4-baa94e96c40c",
     "prev": "99d8f610-5516-4486-8276-9610473ca360",
     "regions": {
      "ae754984-23ba-4e33-b0ec-f621ca1f58bd": {
       "attrs": {
        "height": 0.8,
        "width": 0.8,
        "x": 0.1,
        "y": 0.1
       },
       "content": {
        "cell": "f4b9ef40-f16a-4cbb-ac76-e9c0f287c2be",
        "part": "whole"
       },
       "id": "ae754984-23ba-4e33-b0ec-f621ca1f58bd"
      }
     }
    },
    "742d682b-cafa-4b97-85f4-55752bf5d231": {
     "id": "742d682b-cafa-4b97-85f4-55752bf5d231",
     "prev": "ad2cabba-cd2f-4729-b444-ecae2ba628d4",
     "regions": {
      "6e7b78d4-7813-476f-a603-e48c3c785741": {
       "attrs": {
        "height": 0.8,
        "width": 0.8,
        "x": 0.1,
        "y": 0.1
       },
       "content": {
        "cell": "faa782e7-77cb-4c8a-8666-1f525a7dbf8f",
        "part": "whole"
       },
       "id": "6e7b78d4-7813-476f-a603-e48c3c785741"
      }
     }
    },
    "772ccc81-ef10-4f3f-ace0-7095f2699b33": {
     "id": "772ccc81-ef10-4f3f-ace0-7095f2699b33",
     "prev": "45f9ad27-634c-440f-a400-b028f9e4acc8",
     "regions": {
      "3f93a288-7187-417b-8641-e9b3da1ac68f": {
       "attrs": {
        "height": 0.8,
        "width": 0.8,
        "x": 0.1,
        "y": 0.1
       },
       "content": {
        "cell": "5e4e8d8f-f71e-4c2e-906d-c41373a64ab8",
        "part": "whole"
       },
       "id": "3f93a288-7187-417b-8641-e9b3da1ac68f"
      }
     }
    },
    "78e16d28-608b-49ff-a6e2-2d5e3329ab19": {
     "id": "78e16d28-608b-49ff-a6e2-2d5e3329ab19",
     "prev": "36ac1f46-c1b0-4132-9b51-000e074b0527",
     "regions": {
      "d55b41ab-de9c-4dca-9930-2c41654a6bf8": {
       "attrs": {
        "height": 0.8,
        "width": 0.8,
        "x": 0.1,
        "y": 0.1
       },
       "content": {
        "cell": "46b8c3dc-5894-4f4c-8046-8db5484229ec",
        "part": "whole"
       },
       "id": "d55b41ab-de9c-4dca-9930-2c41654a6bf8"
      }
     }
    },
    "797ddee2-af2d-4f66-85d5-b6da5e4bc183": {
     "id": "797ddee2-af2d-4f66-85d5-b6da5e4bc183",
     "prev": "f8361f5d-7b3f-4ba5-88ca-ede15f1db003",
     "regions": {
      "7d455e4b-5849-455a-b36a-43cebd6e8234": {
       "attrs": {
        "height": 0.8,
        "width": 0.8,
        "x": 0.1,
        "y": 0.1
       },
       "content": {
        "cell": "4e1eb588-abf9-47bb-8eda-110d890b0864",
        "part": "whole"
       },
       "id": "7d455e4b-5849-455a-b36a-43cebd6e8234"
      }
     }
    },
    "80db3773-6fb4-45a4-b0c2-347ddadfb3ed": {
     "id": "80db3773-6fb4-45a4-b0c2-347ddadfb3ed",
     "prev": "5dfd828d-7e28-41cb-86cd-4a64f00320be",
     "regions": {
      "a29df915-715e-4752-b98b-1828bd5f160a": {
       "attrs": {
        "height": 0.8,
        "width": 0.8,
        "x": 0.1,
        "y": 0.1
       },
       "content": {
        "cell": "965766dc-5aa6-4221-93bb-3a47daa10511",
        "part": "whole"
       },
       "id": "a29df915-715e-4752-b98b-1828bd5f160a"
      }
     }
    },
    "843c6191-5174-4350-8cb9-eaacaab38f03": {
     "id": "843c6191-5174-4350-8cb9-eaacaab38f03",
     "prev": "88b8a7c3-af68-4f3d-9145-dbf70eb5fa08",
     "regions": {
      "c00f3ae2-6b78-4cec-943d-e05c98dd4dd4": {
       "attrs": {
        "height": 0.8,
        "width": 0.8,
        "x": 0.1,
        "y": 0.1
       },
       "content": {
        "cell": "a76e6888-d01b-456e-ae7d-5fd3d0cee5f8",
        "part": "whole"
       },
       "id": "c00f3ae2-6b78-4cec-943d-e05c98dd4dd4"
      }
     }
    },
    "8879461d-5d09-4343-bfbb-bdebc94b35f3": {
     "id": "8879461d-5d09-4343-bfbb-bdebc94b35f3",
     "prev": "a89e4bf0-bc63-4fea-ba8c-43083ac3cdab",
     "regions": {
      "0473b74d-84ef-4912-bb16-0cbb073b8c41": {
       "attrs": {
        "height": 0.8,
        "width": 0.8,
        "x": 0.1,
        "y": 0.1
       },
       "content": {
        "cell": "ef0a74eb-d0e8-41be-bdb8-3463be6d43aa",
        "part": "whole"
       },
       "id": "0473b74d-84ef-4912-bb16-0cbb073b8c41"
      }
     }
    },
    "88b8a7c3-af68-4f3d-9145-dbf70eb5fa08": {
     "id": "88b8a7c3-af68-4f3d-9145-dbf70eb5fa08",
     "prev": "8cb786e7-18e8-4473-bc69-6c62af61a2f8",
     "regions": {
      "8dec9e17-db6b-4c07-9b80-02a98b15c7dc": {
       "attrs": {
        "height": 0.8,
        "width": 0.8,
        "x": 0.1,
        "y": 0.1
       },
       "content": {
        "cell": "f88cad97-2493-4b4c-9e4e-051f92291740",
        "part": "whole"
       },
       "id": "8dec9e17-db6b-4c07-9b80-02a98b15c7dc"
      }
     }
    },
    "8cb786e7-18e8-4473-bc69-6c62af61a2f8": {
     "id": "8cb786e7-18e8-4473-bc69-6c62af61a2f8",
     "prev": "6654e852-5e65-4c79-9dd8-db682d964dba",
     "regions": {
      "73de1260-0fbb-48ab-aaee-9ea1d65941b0": {
       "attrs": {
        "height": 0.8,
        "width": 0.8,
        "x": 0.1,
        "y": 0.1
       },
       "content": {
        "cell": "85b3edd5-1194-4bc2-bc05-ac992886ce5c",
        "part": "whole"
       },
       "id": "73de1260-0fbb-48ab-aaee-9ea1d65941b0"
      }
     }
    },
    "8e6c5ae2-339b-40c4-9674-a302aeddcb05": {
     "id": "8e6c5ae2-339b-40c4-9674-a302aeddcb05",
     "prev": "ce960317-0517-4da1-b752-78e14f7bcd2b",
     "regions": {
      "622dd519-f46c-4cd2-9da6-c658d5c1eb22": {
       "attrs": {
        "height": 0.8,
        "width": 0.8,
        "x": 0.1,
        "y": 0.1
       },
       "content": {
        "cell": "16a01818-2b58-4ef3-ae66-a6a46fd11446",
        "part": "whole"
       },
       "id": "622dd519-f46c-4cd2-9da6-c658d5c1eb22"
      }
     }
    },
    "91a80374-c2c7-4cb1-838c-7fb483e6af08": {
     "id": "91a80374-c2c7-4cb1-838c-7fb483e6af08",
     "prev": "f522a318-3f5b-4219-b045-ff5273887863",
     "regions": {
      "03e01c60-1678-4a1d-abef-32f9136ba38c": {
       "attrs": {
        "height": 0.8,
        "width": 0.8,
        "x": 0.1,
        "y": 0.1
       },
       "content": {
        "cell": "416a5cdd-b945-462e-b441-afa9c9f44b50",
        "part": "whole"
       },
       "id": "03e01c60-1678-4a1d-abef-32f9136ba38c"
      }
     }
    },
    "92ab4b60-4b43-4a10-a5f8-8fa46c6c28c1": {
     "id": "92ab4b60-4b43-4a10-a5f8-8fa46c6c28c1",
     "prev": "dbccbb89-4cfe-49b1-9815-1d436e8db37a",
     "regions": {
      "2119fd0b-fb0c-4828-b9ee-ec6b68cf6452": {
       "attrs": {
        "height": 0.8,
        "width": 0.8,
        "x": 0.1,
        "y": 0.1
       },
       "content": {
        "cell": "6baa5e27-1834-4bb2-b08f-3c822c634f3c",
        "part": "whole"
       },
       "id": "2119fd0b-fb0c-4828-b9ee-ec6b68cf6452"
      }
     }
    },
    "92bb463c-c22a-4c5a-9760-e2c060389083": {
     "id": "92bb463c-c22a-4c5a-9760-e2c060389083",
     "prev": "43defa44-3e01-41b3-b12e-1825ae7e7d52",
     "regions": {
      "8e7a6a56-c49e-4bbf-85aa-c36a8bfaf7c4": {
       "attrs": {
        "height": 0.8,
        "width": 0.8,
        "x": 0.1,
        "y": 0.1
       },
       "content": {
        "cell": "38ab36eb-84b3-4f65-9198-d2d9a0beb63d",
        "part": "whole"
       },
       "id": "8e7a6a56-c49e-4bbf-85aa-c36a8bfaf7c4"
      }
     }
    },
    "9464e9c8-e33c-4858-88d4-f79533d86786": {
     "id": "9464e9c8-e33c-4858-88d4-f79533d86786",
     "prev": "78e16d28-608b-49ff-a6e2-2d5e3329ab19",
     "regions": {
      "12d78856-a7ac-4750-a8f6-c456a40d0de1": {
       "attrs": {
        "height": 0.8,
        "width": 0.8,
        "x": 0.1,
        "y": 0.1
       },
       "content": {
        "cell": "3e4efc0e-9051-49e1-b447-fd0a51ec09f1",
        "part": "whole"
       },
       "id": "12d78856-a7ac-4750-a8f6-c456a40d0de1"
      }
     }
    },
    "999e76ac-d624-4531-aa69-00c12e2fd869": {
     "id": "999e76ac-d624-4531-aa69-00c12e2fd869",
     "prev": "0d0b91d3-c556-423f-9e3d-53adbba41a60",
     "regions": {
      "daed3f45-737d-4885-9b6f-177e1f35b954": {
       "attrs": {
        "height": 0.8,
        "width": 0.8,
        "x": 0.1,
        "y": 0.1
       },
       "content": {
        "cell": "bea6ee8b-a518-4afc-aeac-612bcb1ce842",
        "part": "whole"
       },
       "id": "daed3f45-737d-4885-9b6f-177e1f35b954"
      }
     }
    },
    "99d8f610-5516-4486-8276-9610473ca360": {
     "id": "99d8f610-5516-4486-8276-9610473ca360",
     "prev": "a21328c0-e4f0-4ec4-8d7e-2f1e6c5fcd0c",
     "regions": {
      "4fe59a8f-3d00-471a-b056-1132c70ddaf4": {
       "attrs": {
        "height": 0.8,
        "width": 0.8,
        "x": 0.1,
        "y": 0.1
       },
       "content": {
        "cell": "2ece619f-f74c-4a33-9379-50e75287ee0a",
        "part": "whole"
       },
       "id": "4fe59a8f-3d00-471a-b056-1132c70ddaf4"
      }
     }
    },
    "99fb1a5c-3025-4549-9caa-ed010743cc75": {
     "id": "99fb1a5c-3025-4549-9caa-ed010743cc75",
     "prev": "457b22a4-d4fc-4206-939f-dd4b2531efb6",
     "regions": {
      "cedc61e7-91c4-4187-9846-5ca9ec2f360d": {
       "attrs": {
        "height": 0.8,
        "width": 0.8,
        "x": 0.1,
        "y": 0.1
       },
       "content": {
        "cell": "420c4717-93d3-4ce2-a1e6-85e08a782b39",
        "part": "whole"
       },
       "id": "cedc61e7-91c4-4187-9846-5ca9ec2f360d"
      }
     }
    },
    "9b23bb5d-92ff-4dea-b122-f7a3604f6e75": {
     "id": "9b23bb5d-92ff-4dea-b122-f7a3604f6e75",
     "prev": "9ea59b9b-32f2-414b-8da1-b49206a435dd",
     "regions": {
      "4b78d43b-e771-48fa-a66a-9d3637314b35": {
       "attrs": {
        "height": 0.8,
        "width": 0.8,
        "x": 0.1,
        "y": 0.1
       },
       "content": {
        "cell": "4107ff77-fd7a-4b77-838e-f19459e50679",
        "part": "whole"
       },
       "id": "4b78d43b-e771-48fa-a66a-9d3637314b35"
      }
     }
    },
    "9c041f5f-fd7e-454e-ac03-2224e312283e": {
     "id": "9c041f5f-fd7e-454e-ac03-2224e312283e",
     "prev": "b3f9ba59-46d8-4ccb-94c6-4bc9747f6ad5",
     "regions": {
      "84cb6a01-9de5-46bd-b3c5-6bc785d37147": {
       "attrs": {
        "height": 0.8,
        "width": 0.8,
        "x": 0.1,
        "y": 0.1
       },
       "content": {
        "cell": "6f3c5456-c505-431a-bbaa-ac95929ce3c1",
        "part": "whole"
       },
       "id": "84cb6a01-9de5-46bd-b3c5-6bc785d37147"
      }
     }
    },
    "9cebaf3f-f281-4490-a29b-12aaea4aa419": {
     "id": "9cebaf3f-f281-4490-a29b-12aaea4aa419",
     "prev": "44b83eab-bb49-4433-8870-7db4d6f4c9f7",
     "regions": {
      "c25a4a3f-18c5-45dc-ad11-01c7272b317a": {
       "attrs": {
        "height": 0.8,
        "width": 0.8,
        "x": 0.1,
        "y": 0.1
       },
       "content": {
        "cell": "dc9fa833-880d-4d74-b287-0fb097553675",
        "part": "whole"
       },
       "id": "c25a4a3f-18c5-45dc-ad11-01c7272b317a"
      }
     }
    },
    "9ea59b9b-32f2-414b-8da1-b49206a435dd": {
     "id": "9ea59b9b-32f2-414b-8da1-b49206a435dd",
     "prev": "2011bb17-9319-45b0-b34f-71860cd2ee2b",
     "regions": {
      "42e849c1-8ada-4af5-8dda-bd14e3dc4330": {
       "attrs": {
        "height": 0.8,
        "width": 0.8,
        "x": 0.1,
        "y": 0.1
       },
       "content": {
        "cell": "126a6527-b27a-45f3-8635-632d066fa714",
        "part": "whole"
       },
       "id": "42e849c1-8ada-4af5-8dda-bd14e3dc4330"
      }
     }
    },
    "a21328c0-e4f0-4ec4-8d7e-2f1e6c5fcd0c": {
     "id": "a21328c0-e4f0-4ec4-8d7e-2f1e6c5fcd0c",
     "prev": "5d956f7e-8422-4168-b675-8c810e516156",
     "regions": {
      "b75282ea-e591-4b62-9487-17714e708168": {
       "attrs": {
        "height": 0.8,
        "width": 0.8,
        "x": 0.1,
        "y": 0.1
       },
       "content": {
        "cell": "bd92afec-9fc6-48a7-b695-f8a0287e503c",
        "part": "whole"
       },
       "id": "b75282ea-e591-4b62-9487-17714e708168"
      }
     }
    },
    "a89e4bf0-bc63-4fea-ba8c-43083ac3cdab": {
     "id": "a89e4bf0-bc63-4fea-ba8c-43083ac3cdab",
     "prev": "ae528f4d-1349-4573-81c2-f36630906671",
     "regions": {
      "14c8f8e6-7860-4d7f-82bb-5c7aea8c10c4": {
       "attrs": {
        "height": 0.8,
        "width": 0.8,
        "x": 0.1,
        "y": 0.1
       },
       "content": {
        "cell": "5704e5d9-4216-455a-9c8b-7d6447af48ed",
        "part": "whole"
       },
       "id": "14c8f8e6-7860-4d7f-82bb-5c7aea8c10c4"
      }
     }
    },
    "ad2cabba-cd2f-4729-b444-ecae2ba628d4": {
     "id": "ad2cabba-cd2f-4729-b444-ecae2ba628d4",
     "prev": "772ccc81-ef10-4f3f-ace0-7095f2699b33",
     "regions": {
      "97b48d88-4aad-4b25-90d3-f23bd4f4d1b8": {
       "attrs": {
        "height": 0.8,
        "width": 0.8,
        "x": 0.1,
        "y": 0.1
       },
       "content": {
        "cell": "c85eabff-e299-4f5d-b4f9-37f08f9fd78d",
        "part": "whole"
       },
       "id": "97b48d88-4aad-4b25-90d3-f23bd4f4d1b8"
      }
     }
    },
    "ad4754a3-2589-4551-80f3-553f39ebd509": {
     "id": "ad4754a3-2589-4551-80f3-553f39ebd509",
     "prev": "d2570f2c-6dd4-4332-b198-368f7b9b72e9",
     "regions": {
      "1496248a-6cea-467f-a364-a74bc394f0f4": {
       "attrs": {
        "height": 0.8,
        "width": 0.8,
        "x": 0.1,
        "y": 0.1
       },
       "content": {
        "cell": "ae60d0f4-7445-4b02-aea1-b9e8c57e88b2",
        "part": "whole"
       },
       "id": "1496248a-6cea-467f-a364-a74bc394f0f4"
      }
     }
    },
    "ae528f4d-1349-4573-81c2-f36630906671": {
     "id": "ae528f4d-1349-4573-81c2-f36630906671",
     "prev": "ccdc0ae6-5287-4b32-998f-395faa338280",
     "regions": {
      "de63f77f-a819-4f77-af61-4ed1be5c46f7": {
       "attrs": {
        "height": 0.8,
        "width": 0.8,
        "x": 0.1,
        "y": 0.1
       },
       "content": {
        "cell": "98cb46f2-da87-4f98-a442-392aa84d3aee",
        "part": "whole"
       },
       "id": "de63f77f-a819-4f77-af61-4ed1be5c46f7"
      }
     }
    },
    "b3f9ba59-46d8-4ccb-94c6-4bc9747f6ad5": {
     "id": "b3f9ba59-46d8-4ccb-94c6-4bc9747f6ad5",
     "prev": "d7b93e53-a2d2-4491-9fd6-0ee600350ebd",
     "regions": {
      "fd883a93-017c-400c-97eb-e81f2d23f5b4": {
       "attrs": {
        "height": 0.8,
        "width": 0.8,
        "x": 0.1,
        "y": 0.1
       },
       "content": {
        "cell": "74f2d416-759b-4880-8fc1-c0cebd17f4fb",
        "part": "whole"
       },
       "id": "fd883a93-017c-400c-97eb-e81f2d23f5b4"
      }
     }
    },
    "b4be3b3b-33b1-492c-a96e-cb36405db50a": {
     "id": "b4be3b3b-33b1-492c-a96e-cb36405db50a",
     "prev": "e5e9079b-6565-44f8-b88f-19d9a1814457",
     "regions": {
      "ac960d8e-6b0b-4147-a784-447bdb58ed16": {
       "attrs": {
        "height": 0.8,
        "width": 0.8,
        "x": 0.1,
        "y": 0.1
       },
       "content": {
        "cell": "2a8129b6-d5d6-47cd-9d98-bb3301e37094",
        "part": "whole"
       },
       "id": "ac960d8e-6b0b-4147-a784-447bdb58ed16"
      }
     }
    },
    "c289bc22-e7cf-4e68-b804-e513b8e65e93": {
     "id": "c289bc22-e7cf-4e68-b804-e513b8e65e93",
     "prev": "0d6686c0-7513-48d3-aab7-0fbe81a98f43",
     "regions": {
      "4da11310-783b-4fd7-8495-ea697b0261cf": {
       "attrs": {
        "height": 0.8,
        "width": 0.8,
        "x": 0.1,
        "y": 0.1
       },
       "content": {
        "cell": "47b149e3-0f5d-4d79-ab43-40c166a6c38e",
        "part": "whole"
       },
       "id": "4da11310-783b-4fd7-8495-ea697b0261cf"
      }
     }
    },
    "c5c94dcf-3af9-45aa-9efd-9c67bddd5ade": {
     "id": "c5c94dcf-3af9-45aa-9efd-9c67bddd5ade",
     "prev": "4a2757a1-e9a4-464a-be41-0228e3626a29",
     "regions": {
      "4fb16e02-ea01-4042-bafb-5259da85f0bb": {
       "attrs": {
        "height": 0.8,
        "width": 0.8,
        "x": 0.1,
        "y": 0.1
       },
       "content": {
        "cell": "3e43dc4d-0114-43cd-9d43-54d8a13dd113",
        "part": "whole"
       },
       "id": "4fb16e02-ea01-4042-bafb-5259da85f0bb"
      }
     }
    },
    "c81e3e67-80ea-461a-9639-1637b77aa5df": {
     "id": "c81e3e67-80ea-461a-9639-1637b77aa5df",
     "prev": "5afffd30-6035-45cf-8128-f09a4fa5582f",
     "regions": {
      "2b6dd6cd-61bc-43b8-a96d-f624c1be804d": {
       "attrs": {
        "height": 0.8,
        "width": 0.8,
        "x": 0.1,
        "y": 0.1
       },
       "content": {
        "cell": "5e44265b-5142-4ea4-b1c3-6bc734bd71b3",
        "part": "whole"
       },
       "id": "2b6dd6cd-61bc-43b8-a96d-f624c1be804d"
      }
     }
    },
    "ca43b53e-fcee-4c7b-87b0-65257440f74e": {
     "id": "ca43b53e-fcee-4c7b-87b0-65257440f74e",
     "prev": "8879461d-5d09-4343-bfbb-bdebc94b35f3",
     "regions": {
      "1932b3b2-9e6d-4f4d-9858-36b2ac4a6ec6": {
       "attrs": {
        "height": 0.8,
        "width": 0.8,
        "x": 0.1,
        "y": 0.1
       },
       "content": {
        "cell": "84601c68-cbbe-44a1-b22b-11f1166d0a8a",
        "part": "whole"
       },
       "id": "1932b3b2-9e6d-4f4d-9858-36b2ac4a6ec6"
      }
     }
    },
    "ccdc0ae6-5287-4b32-998f-395faa338280": {
     "id": "ccdc0ae6-5287-4b32-998f-395faa338280",
     "prev": "c81e3e67-80ea-461a-9639-1637b77aa5df",
     "regions": {
      "9096699b-1e85-472e-b6e9-c42b8d0908b4": {
       "attrs": {
        "height": 0.8,
        "width": 0.8,
        "x": 0.1,
        "y": 0.1
       },
       "content": {
        "cell": "7c32721c-149e-40bc-9e3d-1abd3c8c4ccc",
        "part": "whole"
       },
       "id": "9096699b-1e85-472e-b6e9-c42b8d0908b4"
      }
     }
    },
    "cce87ddd-d83b-421b-94cc-f1f335de5e21": {
     "id": "cce87ddd-d83b-421b-94cc-f1f335de5e21",
     "prev": "80db3773-6fb4-45a4-b0c2-347ddadfb3ed",
     "regions": {
      "bf0a9b7e-f78e-45a9-91d8-0f35ed8e1844": {
       "attrs": {
        "height": 0.8,
        "width": 0.8,
        "x": 0.1,
        "y": 0.1
       },
       "content": {
        "cell": "ec8dfd99-f29b-4d17-a30d-22b938a83a49",
        "part": "whole"
       },
       "id": "bf0a9b7e-f78e-45a9-91d8-0f35ed8e1844"
      }
     }
    },
    "ce960317-0517-4da1-b752-78e14f7bcd2b": {
     "id": "ce960317-0517-4da1-b752-78e14f7bcd2b",
     "prev": "f13102f0-e62b-4fcf-9ac5-d743c5e64f07",
     "regions": {
      "714e26a9-c1ef-40fd-9dd4-f6289508ce51": {
       "attrs": {
        "height": 0.8,
        "width": 0.8,
        "x": 0.1,
        "y": 0.1
       },
       "content": {
        "cell": "ecdc0210-b245-416b-8e41-2c77ce553399",
        "part": "whole"
       },
       "id": "714e26a9-c1ef-40fd-9dd4-f6289508ce51"
      }
     }
    },
    "d2570f2c-6dd4-4332-b198-368f7b9b72e9": {
     "id": "d2570f2c-6dd4-4332-b198-368f7b9b72e9",
     "prev": "9cebaf3f-f281-4490-a29b-12aaea4aa419",
     "regions": {
      "1b92232c-c13d-4dfb-b448-3adf24e6f476": {
       "attrs": {
        "height": 0.8,
        "width": 0.8,
        "x": 0.1,
        "y": 0.1
       },
       "content": {
        "cell": "b238f15e-5e65-452b-bb4e-315f60b2dde5",
        "part": "whole"
       },
       "id": "1b92232c-c13d-4dfb-b448-3adf24e6f476"
      }
     }
    },
    "d2fd7515-553e-4007-907d-634228dc0e61": {
     "id": "d2fd7515-553e-4007-907d-634228dc0e61",
     "prev": "d6c0d099-89fc-46cb-bbe7-4d17e16c1085",
     "regions": {
      "7168609e-befc-4b84-ad77-c03013577763": {
       "attrs": {
        "height": 0.8,
        "width": 0.8,
        "x": 0.1,
        "y": 0.1
       },
       "content": {
        "cell": "fd63acb5-706a-4950-8d70-84597d401d53",
        "part": "whole"
       },
       "id": "7168609e-befc-4b84-ad77-c03013577763"
      }
     }
    },
    "d6c0d099-89fc-46cb-bbe7-4d17e16c1085": {
     "id": "d6c0d099-89fc-46cb-bbe7-4d17e16c1085",
     "prev": null,
     "regions": {
      "9707620f-6728-4f7c-8e69-7a2ed4f0c9d1": {
       "attrs": {
        "height": 0.8,
        "width": 0.8,
        "x": 0.1,
        "y": 0.1
       },
       "content": {
        "cell": "89e58dae-9857-478d-b2c4-588ce1adb86b",
        "part": "whole"
       },
       "id": "9707620f-6728-4f7c-8e69-7a2ed4f0c9d1"
      }
     }
    },
    "d7b93e53-a2d2-4491-9fd6-0ee600350ebd": {
     "id": "d7b93e53-a2d2-4491-9fd6-0ee600350ebd",
     "prev": "537338e8-e593-45f7-b4f2-e40c6be0bb3e",
     "regions": {
      "686cf6e7-d43a-4568-8730-3f5d609600fb": {
       "attrs": {
        "height": 0.8,
        "width": 0.8,
        "x": 0.1,
        "y": 0.1
       },
       "content": {
        "cell": "1f1839f6-6817-466d-b98e-d502e136b7d0",
        "part": "whole"
       },
       "id": "686cf6e7-d43a-4568-8730-3f5d609600fb"
      }
     }
    },
    "db84f17e-1308-4f79-b2dd-970bc77e4bdd": {
     "id": "db84f17e-1308-4f79-b2dd-970bc77e4bdd",
     "prev": "0d45c30e-8cd5-4e8f-96b0-fdab9e591ec0",
     "regions": {
      "eed3deff-e83c-4d76-a6d9-4e925ce44465": {
       "attrs": {
        "height": 0.8,
        "width": 0.8,
        "x": 0.1,
        "y": 0.1
       },
       "content": {
        "cell": "efbdc9bf-54bc-4d48-9f2b-2906eacb4836",
        "part": "whole"
       },
       "id": "eed3deff-e83c-4d76-a6d9-4e925ce44465"
      }
     }
    },
    "dbccbb89-4cfe-49b1-9815-1d436e8db37a": {
     "id": "dbccbb89-4cfe-49b1-9815-1d436e8db37a",
     "prev": "52847f6f-1206-40df-88cf-5fb043cd3bb9",
     "regions": {
      "84fb6075-6a63-4c89-be33-b689e781c5ca": {
       "attrs": {
        "height": 0.8,
        "width": 0.8,
        "x": 0.1,
        "y": 0.1
       },
       "content": {
        "cell": "6debe0a8-6104-4c7b-b6b0-90c8579d6770",
        "part": "whole"
       },
       "id": "84fb6075-6a63-4c89-be33-b689e781c5ca"
      }
     }
    },
    "dd814d07-4469-4b17-b309-bcbf6240cdf7": {
     "id": "dd814d07-4469-4b17-b309-bcbf6240cdf7",
     "prev": "999e76ac-d624-4531-aa69-00c12e2fd869",
     "regions": {
      "f48eed88-7eac-4b77-9eaa-fdd452b6d474": {
       "attrs": {
        "height": 0.8,
        "width": 0.8,
        "x": 0.1,
        "y": 0.1
       },
       "content": {
        "cell": "b8068849-c225-447a-ae06-e4426d90a509",
        "part": "whole"
       },
       "id": "f48eed88-7eac-4b77-9eaa-fdd452b6d474"
      }
     }
    },
    "e5e9079b-6565-44f8-b88f-19d9a1814457": {
     "id": "e5e9079b-6565-44f8-b88f-19d9a1814457",
     "prev": "fb2877d6-eab1-46b5-aaf9-39cce0ffb76f",
     "regions": {
      "2be86bf5-2e2a-41cc-b958-2994bccf6178": {
       "attrs": {
        "height": 0.8,
        "width": 0.8,
        "x": 0.1,
        "y": 0.1
       },
       "content": {
        "cell": "2560f2ec-08a0-4eb5-9050-3a0f79b09a58",
        "part": "whole"
       },
       "id": "2be86bf5-2e2a-41cc-b958-2994bccf6178"
      }
     }
    },
    "ef1640e1-90b6-4041-a7a7-ff49f96efb2f": {
     "id": "ef1640e1-90b6-4041-a7a7-ff49f96efb2f",
     "prev": "170ce2e8-5f76-4a10-bfdf-21fe76ecdd45",
     "regions": {
      "578e3c51-55ca-450b-9482-3788e76570b4": {
       "attrs": {
        "height": 0.8,
        "width": 0.8,
        "x": 0.1,
        "y": 0.1
       },
       "content": {
        "cell": "cf06887c-d6ea-446e-9233-67f73ce45831",
        "part": "whole"
       },
       "id": "578e3c51-55ca-450b-9482-3788e76570b4"
      }
     }
    },
    "f13102f0-e62b-4fcf-9ac5-d743c5e64f07": {
     "id": "f13102f0-e62b-4fcf-9ac5-d743c5e64f07",
     "prev": "ca43b53e-fcee-4c7b-87b0-65257440f74e",
     "regions": {
      "c5eaa99b-042d-4772-bb76-e3157e15635a": {
       "attrs": {
        "height": 0.8,
        "width": 0.8,
        "x": 0.1,
        "y": 0.1
       },
       "content": {
        "cell": "e1ae08c7-68f3-4ac2-a085-baa3b79dec24",
        "part": "whole"
       },
       "id": "c5eaa99b-042d-4772-bb76-e3157e15635a"
      }
     }
    },
    "f14ba6b9-a448-4609-902d-f70394079e16": {
     "id": "f14ba6b9-a448-4609-902d-f70394079e16",
     "prev": "742d682b-cafa-4b97-85f4-55752bf5d231",
     "regions": {
      "6b219755-8ab3-4dae-a4ae-33e2e7b845b1": {
       "attrs": {
        "height": 0.8,
        "width": 0.8,
        "x": 0.1,
        "y": 0.1
       },
       "content": {
        "cell": "5992877b-8294-4f53-9a24-fc71aa41e3ac",
        "part": "whole"
       },
       "id": "6b219755-8ab3-4dae-a4ae-33e2e7b845b1"
      }
     }
    },
    "f522a318-3f5b-4219-b045-ff5273887863": {
     "id": "f522a318-3f5b-4219-b045-ff5273887863",
     "prev": "44c646e3-1fd2-4156-beb0-f7c368cec255",
     "regions": {
      "49b6e425-3dd5-44c4-a64b-c091ac5f6e4d": {
       "attrs": {
        "height": 0.8,
        "width": 0.8,
        "x": 0.1,
        "y": 0.1
       },
       "content": {
        "cell": "97af843d-ecc5-4241-86d1-5f7519f6479b",
        "part": "whole"
       },
       "id": "49b6e425-3dd5-44c4-a64b-c091ac5f6e4d"
      }
     }
    },
    "f8361f5d-7b3f-4ba5-88ca-ede15f1db003": {
     "id": "f8361f5d-7b3f-4ba5-88ca-ede15f1db003",
     "prev": "9b23bb5d-92ff-4dea-b122-f7a3604f6e75",
     "regions": {
      "8a733be6-1b76-4df1-b6f4-15e03686f596": {
       "attrs": {
        "height": 0.8,
        "width": 0.8,
        "x": 0.1,
        "y": 0.1
       },
       "content": {
        "cell": "9648060f-0421-4418-9192-08807674aed4",
        "part": "whole"
       },
       "id": "8a733be6-1b76-4df1-b6f4-15e03686f596"
      }
     }
    },
    "fa8a6951-fa3a-4f13-91d7-ba2b52ead4c1": {
     "id": "fa8a6951-fa3a-4f13-91d7-ba2b52ead4c1",
     "prev": "91a80374-c2c7-4cb1-838c-7fb483e6af08",
     "regions": {
      "af8b9529-4b87-44ed-81dc-c19cd7d28bf9": {
       "attrs": {
        "height": 0.8,
        "width": 0.8,
        "x": 0.1,
        "y": 0.1
       },
       "content": {
        "cell": "5e9856c4-f694-4e8a-933c-954bb112cea0",
        "part": "whole"
       },
       "id": "af8b9529-4b87-44ed-81dc-c19cd7d28bf9"
      }
     }
    },
    "fb2877d6-eab1-46b5-aaf9-39cce0ffb76f": {
     "id": "fb2877d6-eab1-46b5-aaf9-39cce0ffb76f",
     "prev": "cce87ddd-d83b-421b-94cc-f1f335de5e21",
     "regions": {
      "e4fc5e6c-f253-44aa-a692-f67f26999d30": {
       "attrs": {
        "height": 0.8,
        "width": 0.8,
        "x": 0.1,
        "y": 0.1
       },
       "content": {
        "cell": "6ef22564-cb66-4ebc-980f-7ec7a8bd641f",
        "part": "whole"
       },
       "id": "e4fc5e6c-f253-44aa-a692-f67f26999d30"
      }
     }
    },
    "fcdab8ef-675e-48cf-8b24-6d94df3db5e1": {
     "id": "fcdab8ef-675e-48cf-8b24-6d94df3db5e1",
     "prev": "843c6191-5174-4350-8cb9-eaacaab38f03",
     "regions": {
      "f7d3e5bd-fe60-4997-8690-a39c9b850001": {
       "attrs": {
        "height": 0.8,
        "width": 0.8,
        "x": 0.1,
        "y": 0.1
       },
       "content": {
        "cell": "dc18c417-b752-44f4-8c25-e6bb724546ea",
        "part": "whole"
       },
       "id": "f7d3e5bd-fe60-4997-8690-a39c9b850001"
      }
     }
    }
   },
   "themes": {}
  }
 },
 "nbformat": 4,
 "nbformat_minor": 1
}
